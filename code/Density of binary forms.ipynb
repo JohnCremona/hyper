{
 "cells": [
  {
   "cell_type": "code",
   "execution_count": 16,
   "metadata": {},
   "outputs": [],
   "source": [
    "%runfile forms_alphabeta.sage\n",
    "p=pp"
   ]
  },
  {
   "cell_type": "code",
   "execution_count": 5,
   "metadata": {},
   "outputs": [
    {
     "name": "stdout",
     "output_type": "stream",
     "text": [
      "Initializing alpha_i for i=0,1 to 0,1\n",
      "Initializing beta_i for i=0,1 to 0,1\n"
     ]
    }
   ],
   "source": [
    "initialize_alpha_beta_dicts()"
   ]
  },
  {
   "cell_type": "code",
   "execution_count": 6,
   "metadata": {},
   "outputs": [
    {
     "data": {
      "text/plain": [
       "1/2"
      ]
     },
     "execution_count": 6,
     "metadata": {},
     "output_type": "execute_result"
    }
   ],
   "source": [
    "rho(2)"
   ]
  },
  {
   "cell_type": "code",
   "execution_count": 7,
   "metadata": {},
   "outputs": [
    {
     "data": {
      "text/plain": [
       "1/2"
      ]
     },
     "execution_count": 7,
     "metadata": {},
     "output_type": "execute_result"
    }
   ],
   "source": [
    "rho_new(2)"
   ]
  },
  {
   "cell_type": "code",
   "execution_count": 55,
   "metadata": {},
   "outputs": [
    {
     "data": {
      "text/plain": [
       "(2/3*p^4 + 2/3*p^3 + p)/(p^4 + p^3 + p^2 + p + 1)"
      ]
     },
     "execution_count": 55,
     "metadata": {},
     "output_type": "execute_result"
    }
   ],
   "source": [
    "beta(3)"
   ]
  },
  {
   "cell_type": "code",
   "execution_count": 58,
   "metadata": {},
   "outputs": [
    {
     "data": {
      "text/plain": [
       "(2/3) * (p^4 + p^3 + p^2 + p + 1)^-1 * (p^4 + 3/2*p^3 + 1/2*p^2 + 3/2*p + 1)"
      ]
     },
     "execution_count": 58,
     "metadata": {},
     "output_type": "execute_result"
    }
   ],
   "source": [
    "rho(3).factor()"
   ]
  },
  {
   "cell_type": "code",
   "execution_count": 9,
   "metadata": {},
   "outputs": [
    {
     "data": {
      "text/plain": [
       "True"
      ]
     },
     "execution_count": 9,
     "metadata": {},
     "output_type": "execute_result"
    }
   ],
   "source": [
    "rho_new(3)==rho(3)"
   ]
  },
  {
   "cell_type": "code",
   "execution_count": 10,
   "metadata": {},
   "outputs": [
    {
     "data": {
      "text/plain": [
       "True"
      ]
     },
     "execution_count": 10,
     "metadata": {},
     "output_type": "execute_result"
    }
   ],
   "source": [
    "rho_new(4)==rho(4)"
   ]
  },
  {
   "cell_type": "code",
   "execution_count": 25,
   "metadata": {
    "scrolled": true
   },
   "outputs": [
    {
     "data": {
      "text/plain": [
       "(5) * (p - 1)^2 * (p^12 + 11/5*p^11 + 16/5*p^10 + 4*p^9 + 27/5*p^8 + 28/5*p^7 + 23/5*p^6 + 28/5*p^5 + 27/5*p^4 + 4*p^3 + 16/5*p^2 + 11/5*p + 1)"
      ]
     },
     "execution_count": 25,
     "metadata": {},
     "output_type": "execute_result"
    }
   ],
   "source": [
    "(8*(p^5-1)*(p^9-1)*rho(4)).factor()"
   ]
  },
  {
   "cell_type": "code",
   "execution_count": 57,
   "metadata": {},
   "outputs": [
    {
     "data": {
      "text/plain": [
       "(5/8) * p * (p + 1)^-2 * (p^2 + p + 1)^-1 * (p^6 + p^3 + 1)^-1 * (p^9 + 13/5*p^8 + 3*p^7 + 13/5*p^6 + 13/5*p^5 + 16/5*p^4 + 12/5*p^3 + 12/5*p^2 + 16/5*p + 8/5)"
      ]
     },
     "execution_count": 57,
     "metadata": {},
     "output_type": "execute_result"
    }
   ],
   "source": [
    "beta(4).factor()"
   ]
  },
  {
   "cell_type": "code",
   "execution_count": 11,
   "metadata": {
    "scrolled": true
   },
   "outputs": [
    {
     "data": {
      "text/plain": [
       "True"
      ]
     },
     "execution_count": 11,
     "metadata": {},
     "output_type": "execute_result"
    }
   ],
   "source": [
    "rho_new(5)==rho(5)"
   ]
  },
  {
   "cell_type": "code",
   "execution_count": 12,
   "metadata": {},
   "outputs": [
    {
     "data": {
      "text/plain": [
       "True"
      ]
     },
     "execution_count": 12,
     "metadata": {},
     "output_type": "execute_result"
    }
   ],
   "source": [
    "rho_new(6)==rho(6)"
   ]
  },
  {
   "cell_type": "code",
   "execution_count": 13,
   "metadata": {},
   "outputs": [],
   "source": [
    "r5=rho(5)"
   ]
  },
  {
   "cell_type": "code",
   "execution_count": 14,
   "metadata": {},
   "outputs": [
    {
     "data": {
      "text/plain": [
       "(19/30) * (p^2 + p + 1)^-1 * (p^4 + p^3 + p^2 + p + 1)^-1 * (p^6 - p^5 + p^4 - p^3 + p^2 - p + 1)^-1 * (p^6 + p^5 + p^4 + p^3 + p^2 + p + 1)^-1 * (p^18 + 44/19*p^17 + 78/19*p^16 + 104/19*p^15 + 139/19*p^14 + 141/19*p^13 + 170/19*p^12 + 131/19*p^11 + 174/19*p^10 + 130/19*p^9 + 174/19*p^8 + 131/19*p^7 + 170/19*p^6 + 141/19*p^5 + 139/19*p^4 + 104/19*p^3 + 78/19*p^2 + 44/19*p + 1)"
      ]
     },
     "execution_count": 14,
     "metadata": {},
     "output_type": "execute_result"
    }
   ],
   "source": [
    "r5.factor()"
   ]
  },
  {
   "cell_type": "code",
   "execution_count": 30,
   "metadata": {},
   "outputs": [
    {
     "data": {
      "text/plain": [
       "19 p^{18} + 44 p^{17} + 78 p^{16} + 104 p^{15} + 139 p^{14} + 141 p^{13} + 170 p^{12} + 131 p^{11} + 174 p^{10} + 130 p^{9} + 174 p^{8} + 131 p^{7} + 170 p^{6} + 141 p^{5} + 139 p^{4} + 104 p^{3} + 78 p^{2} + 44 p + 19"
      ]
     },
     "execution_count": 30,
     "metadata": {},
     "output_type": "execute_result"
    }
   ],
   "source": [
    "latex(((p^14-1)*(p^5-1)*(p^3-1)*30*r5/((p-1)^3*(p+1))))"
   ]
  },
  {
   "cell_type": "code",
   "execution_count": 40,
   "metadata": {},
   "outputs": [
    {
     "data": {
      "text/plain": [
       "2 p^{3} + 2 p^{2} + 3"
      ]
     },
     "execution_count": 40,
     "metadata": {},
     "output_type": "execute_result"
    }
   ],
   "source": [
    "latex(((p^5-1)/(p*(p-1))*3*beta(3)))"
   ]
  },
  {
   "cell_type": "code",
   "execution_count": 47,
   "metadata": {},
   "outputs": [
    {
     "data": {
      "text/plain": [
       "5 p^{9} + 13 p^{8} + 15 p^{7} + 13 p^{6} + 13 p^{5} + 16 p^{4} + 12 p^{3} + 12 p^{2} + 16 p + 8"
      ]
     },
     "execution_count": 47,
     "metadata": {},
     "output_type": "execute_result"
    }
   ],
   "source": [
    "latex(((p^9-1)*(p+1)^2/(p*(p-1))*8*beta(4)))"
   ]
  },
  {
   "cell_type": "code",
   "execution_count": 54,
   "metadata": {},
   "outputs": [
    {
     "data": {
      "text/plain": [
       "19 p^{16} + 33 p^{15} + 42 p^{14} + 51 p^{13} + 81 p^{12} + 42 p^{11} + 93 p^{10} + 34 p^{9} + 90 p^{8} + 45 p^{7} + 80 p^{6} + 50 p^{5} + 75 p^{4} + 60 p^{3} + 45 p^{2} + 30 p + 30"
      ]
     },
     "execution_count": 54,
     "metadata": {},
     "output_type": "execute_result"
    }
   ],
   "source": [
    "latex(((p^14-1)*(p^5-1)/(p*(p-1)^2)*30*beta(5)))"
   ]
  },
  {
   "cell_type": "markdown",
   "metadata": {},
   "source": [
    "# Forms and polynomials which split completely"
   ]
  },
  {
   "cell_type": "code",
   "execution_count": 59,
   "metadata": {},
   "outputs": [],
   "source": [
    "def split_factorizations(d):\n",
    "    return [phi for phi in Phi(d) if all(d==1 for d,e in phi)]"
   ]
  },
  {
   "cell_type": "code",
   "execution_count": 60,
   "metadata": {},
   "outputs": [
    {
     "name": "stdout",
     "output_type": "stream",
     "text": [
      "[[[1, 1]]]\n",
      "[[[1, 1], [1, 1]], [[1, 2]]]\n",
      "[[[1, 1], [1, 1], [1, 1]], [[1, 1], [1, 2]], [[1, 3]]]\n",
      "[[[1, 1], [1, 1], [1, 1], [1, 1]], [[1, 1], [1, 1], [1, 2]], [[1, 1], [1, 3]], [[1, 2], [1, 2]], [[1, 4]]]\n",
      "[[[1, 1], [1, 1], [1, 1], [1, 1], [1, 1]], [[1, 1], [1, 1], [1, 1], [1, 2]], [[1, 1], [1, 1], [1, 3]], [[1, 1], [1, 2], [1, 2]], [[1, 1], [1, 4]], [[1, 2], [1, 3]], [[1, 5]]]\n"
     ]
    }
   ],
   "source": [
    "for d in [1..5]:\n",
    "    print(split_factorizations(d))"
   ]
  },
  {
   "cell_type": "code",
   "execution_count": 66,
   "metadata": {},
   "outputs": [],
   "source": [
    "def poly_split(d):\n",
    "    splits = split_factorizations(d)\n",
    "    return sum([prod(alpha(e) for j,e in phi) for phi in splits])"
   ]
  },
  {
   "cell_type": "code",
   "execution_count": 67,
   "metadata": {},
   "outputs": [
    {
     "name": "stdout",
     "output_type": "stream",
     "text": [
      "1\n",
      "(p + 3/2)/(p + 1)\n",
      "(p^5 + 7/2*p^4 + 7/2*p^3 + 19/6*p^2 + 23/6*p + 13/6)/(p^5 + 2*p^4 + 2*p^3 + 2*p^2 + 2*p + 1)\n",
      "(p^14 + 13/2*p^13 + 63/4*p^12 + 145/6*p^11 + 395/12*p^10 + 247/6*p^9 + 1061/24*p^8 + 263/6*p^7 + 1061/24*p^6 + 130/3*p^5 + 899/24*p^4 + 343/12*p^3 + 481/24*p^2 + 131/12*p + 73/24)/(p^14 + 4*p^13 + 8*p^12 + 12*p^11 + 16*p^10 + 19*p^9 + 20*p^8 + 20*p^7 + 20*p^6 + 19*p^5 + 16*p^4 + 12*p^3 + 8*p^2 + 4*p + 1)\n",
      "(p^26 + 15/2*p^25 + 81/4*p^24 + 223/6*p^23 + 121/2*p^22 + 265/3*p^21 + 2777/24*p^20 + 143*p^19 + 683/4*p^18 + 592/3*p^17 + 8727/40*p^16 + 13987/60*p^15 + 14627/60*p^14 + 7429/30*p^13 + 29599/120*p^12 + 7199/30*p^11 + 27301/120*p^10 + 3158/15*p^9 + 4487/24*p^8 + 4781/30*p^7 + 2641/20*p^6 + 1567/15*p^5 + 9229/120*p^4 + 503/10*p^3 + 1777/60*p^2 + 857/60*p + 481/120)/(p^26 + 4*p^25 + 9*p^24 + 16*p^23 + 25*p^22 + 35*p^21 + 45*p^20 + 55*p^19 + 65*p^18 + 74*p^17 + 81*p^16 + 86*p^15 + 89*p^14 + 90*p^13 + 89*p^12 + 86*p^11 + 81*p^10 + 74*p^9 + 65*p^8 + 55*p^7 + 45*p^6 + 35*p^5 + 25*p^4 + 16*p^3 + 9*p^2 + 4*p + 1)\n"
     ]
    }
   ],
   "source": [
    "for d in [1..5]:\n",
    "    print(poly_split(d))"
   ]
  },
  {
   "cell_type": "code",
   "execution_count": null,
   "metadata": {},
   "outputs": [],
   "source": []
  }
 ],
 "metadata": {
  "kernelspec": {
   "display_name": "SageMath 9.0",
   "language": "sage",
   "name": "sagemath"
  },
  "language_info": {
   "codemirror_mode": {
    "name": "ipython",
    "version": 3
   },
   "file_extension": ".py",
   "mimetype": "text/x-python",
   "name": "python",
   "nbconvert_exporter": "python",
   "pygments_lexer": "ipython3",
   "version": "3.7.3"
  }
 },
 "nbformat": 4,
 "nbformat_minor": 2
}
