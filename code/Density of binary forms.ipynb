{
 "cells": [
  {
   "cell_type": "markdown",
   "metadata": {},
   "source": [
    "Read in the sage file which defines all the functions:"
   ]
  },
  {
   "cell_type": "code",
   "execution_count": 2,
   "metadata": {},
   "outputs": [],
   "source": [
    "%runfile forms_alphabeta.sage\n",
    "%runfile star_alphabeta.sage\n",
    "p=pp"
   ]
  },
  {
   "cell_type": "markdown",
   "metadata": {},
   "source": [
    "Running the next cell initializes the alphas and betas, discarding any which yu may have already computed"
   ]
  },
  {
   "cell_type": "code",
   "execution_count": 3,
   "metadata": {},
   "outputs": [
    {
     "name": "stdout",
     "output_type": "stream",
     "text": [
      "Initializing alpha_i for i=0,1 to 0,1\n",
      "Initializing beta_i for i=0,1 to 0,1\n"
     ]
    }
   ],
   "source": [
    "initialize_alpha_beta_dicts()\n",
    "N_dict = {}"
   ]
  },
  {
   "cell_type": "code",
   "execution_count": 4,
   "metadata": {},
   "outputs": [],
   "source": [
    "make_alpha_beta(2)"
   ]
  },
  {
   "cell_type": "code",
   "execution_count": 5,
   "metadata": {},
   "outputs": [
    {
     "data": {
      "text/plain": [
       "1/2"
      ]
     },
     "execution_count": 5,
     "metadata": {},
     "output_type": "execute_result"
    }
   ],
   "source": [
    "rho(2)"
   ]
  },
  {
   "cell_type": "code",
   "execution_count": 6,
   "metadata": {},
   "outputs": [
    {
     "data": {
      "text/plain": [
       "(1/2/(p + 1), 1/2*p/(p + 1))"
      ]
     },
     "execution_count": 6,
     "metadata": {},
     "output_type": "execute_result"
    }
   ],
   "source": [
    "alpha(2), beta(2)"
   ]
  },
  {
   "cell_type": "code",
   "execution_count": 7,
   "metadata": {},
   "outputs": [
    {
     "data": {
      "text/plain": [
       "(2/3*p^4 + 2/3*p^3 + p)/(p^4 + p^3 + p^2 + p + 1)"
      ]
     },
     "execution_count": 7,
     "metadata": {},
     "output_type": "execute_result"
    }
   ],
   "source": [
    "beta(3)"
   ]
  },
  {
   "cell_type": "code",
   "execution_count": 8,
   "metadata": {},
   "outputs": [
    {
     "data": {
      "text/plain": [
       "(2/3) * (p^4 + p^3 + p^2 + p + 1)^-1 * (p^4 + 3/2*p^3 + 1/2*p^2 + 3/2*p + 1)"
      ]
     },
     "execution_count": 8,
     "metadata": {},
     "output_type": "execute_result"
    }
   ],
   "source": [
    "rho(3).factor()"
   ]
  },
  {
   "cell_type": "code",
   "execution_count": 9,
   "metadata": {},
   "outputs": [
    {
     "data": {
      "text/plain": [
       "True"
      ]
     },
     "execution_count": 9,
     "metadata": {},
     "output_type": "execute_result"
    }
   ],
   "source": [
    "rho_new(3)==rho(3)"
   ]
  },
  {
   "cell_type": "code",
   "execution_count": 10,
   "metadata": {},
   "outputs": [
    {
     "data": {
      "text/plain": [
       "True"
      ]
     },
     "execution_count": 10,
     "metadata": {},
     "output_type": "execute_result"
    }
   ],
   "source": [
    "rho_new(4)==rho(4)"
   ]
  },
  {
   "cell_type": "code",
   "execution_count": 11,
   "metadata": {
    "scrolled": true
   },
   "outputs": [
    {
     "data": {
      "text/plain": [
       "(5) * (p - 1)^2 * (p^12 + 11/5*p^11 + 16/5*p^10 + 4*p^9 + 27/5*p^8 + 28/5*p^7 + 23/5*p^6 + 28/5*p^5 + 27/5*p^4 + 4*p^3 + 16/5*p^2 + 11/5*p + 1)"
      ]
     },
     "execution_count": 11,
     "metadata": {},
     "output_type": "execute_result"
    }
   ],
   "source": [
    "(8*(p^5-1)*(p^9-1)*rho(4)).factor()"
   ]
  },
  {
   "cell_type": "code",
   "execution_count": 12,
   "metadata": {},
   "outputs": [
    {
     "data": {
      "text/plain": [
       "(5/8) * p * (p + 1)^-2 * (p^2 + p + 1)^-1 * (p^6 + p^3 + 1)^-1 * (p^9 + 13/5*p^8 + 3*p^7 + 13/5*p^6 + 13/5*p^5 + 16/5*p^4 + 12/5*p^3 + 12/5*p^2 + 16/5*p + 8/5)"
      ]
     },
     "execution_count": 12,
     "metadata": {},
     "output_type": "execute_result"
    }
   ],
   "source": [
    "beta(4).factor()"
   ]
  },
  {
   "cell_type": "code",
   "execution_count": 13,
   "metadata": {
    "scrolled": true
   },
   "outputs": [
    {
     "data": {
      "text/plain": [
       "True"
      ]
     },
     "execution_count": 13,
     "metadata": {},
     "output_type": "execute_result"
    }
   ],
   "source": [
    "rho_new(5)==rho(5)"
   ]
  },
  {
   "cell_type": "code",
   "execution_count": 19,
   "metadata": {},
   "outputs": [
    {
     "data": {
      "text/plain": [
       "True"
      ]
     },
     "execution_count": 19,
     "metadata": {},
     "output_type": "execute_result"
    }
   ],
   "source": [
    "rho_new(6)==rho(6)"
   ]
  },
  {
   "cell_type": "code",
   "execution_count": 20,
   "metadata": {},
   "outputs": [],
   "source": [
    "r5=rho(5)"
   ]
  },
  {
   "cell_type": "code",
   "execution_count": 21,
   "metadata": {},
   "outputs": [
    {
     "data": {
      "text/plain": [
       "(19/30) * (p^2 + p + 1)^-1 * (p^4 + p^3 + p^2 + p + 1)^-1 * (p^6 - p^5 + p^4 - p^3 + p^2 - p + 1)^-1 * (p^6 + p^5 + p^4 + p^3 + p^2 + p + 1)^-1 * (p^18 + 44/19*p^17 + 78/19*p^16 + 104/19*p^15 + 139/19*p^14 + 141/19*p^13 + 170/19*p^12 + 131/19*p^11 + 174/19*p^10 + 130/19*p^9 + 174/19*p^8 + 131/19*p^7 + 170/19*p^6 + 141/19*p^5 + 139/19*p^4 + 104/19*p^3 + 78/19*p^2 + 44/19*p + 1)"
      ]
     },
     "execution_count": 21,
     "metadata": {},
     "output_type": "execute_result"
    }
   ],
   "source": [
    "r5.factor()"
   ]
  },
  {
   "cell_type": "code",
   "execution_count": 22,
   "metadata": {},
   "outputs": [
    {
     "data": {
      "text/plain": [
       "19 p^{18} + 44 p^{17} + 78 p^{16} + 104 p^{15} + 139 p^{14} + 141 p^{13} + 170 p^{12} + 131 p^{11} + 174 p^{10} + 130 p^{9} + 174 p^{8} + 131 p^{7} + 170 p^{6} + 141 p^{5} + 139 p^{4} + 104 p^{3} + 78 p^{2} + 44 p + 19"
      ]
     },
     "execution_count": 22,
     "metadata": {},
     "output_type": "execute_result"
    }
   ],
   "source": [
    "latex(((p^14-1)*(p^5-1)*(p^3-1)*30*r5/((p-1)^3*(p+1))))"
   ]
  },
  {
   "cell_type": "code",
   "execution_count": 23,
   "metadata": {},
   "outputs": [
    {
     "data": {
      "text/plain": [
       "2 p^{3} + 2 p^{2} + 3"
      ]
     },
     "execution_count": 23,
     "metadata": {},
     "output_type": "execute_result"
    }
   ],
   "source": [
    "latex(((p^5-1)/(p*(p-1))*3*beta(3)))"
   ]
  },
  {
   "cell_type": "code",
   "execution_count": 24,
   "metadata": {},
   "outputs": [
    {
     "data": {
      "text/plain": [
       "5 p^{9} + 13 p^{8} + 15 p^{7} + 13 p^{6} + 13 p^{5} + 16 p^{4} + 12 p^{3} + 12 p^{2} + 16 p + 8"
      ]
     },
     "execution_count": 24,
     "metadata": {},
     "output_type": "execute_result"
    }
   ],
   "source": [
    "latex(((p^9-1)*(p+1)^2/(p*(p-1))*8*beta(4)))"
   ]
  },
  {
   "cell_type": "code",
   "execution_count": 25,
   "metadata": {},
   "outputs": [
    {
     "data": {
      "text/plain": [
       "19 p^{16} + 33 p^{15} + 42 p^{14} + 51 p^{13} + 81 p^{12} + 42 p^{11} + 93 p^{10} + 34 p^{9} + 90 p^{8} + 45 p^{7} + 80 p^{6} + 50 p^{5} + 75 p^{4} + 60 p^{3} + 45 p^{2} + 30 p + 30"
      ]
     },
     "execution_count": 25,
     "metadata": {},
     "output_type": "execute_result"
    }
   ],
   "source": [
    "latex(((p^14-1)*(p^5-1)/(p*(p-1)^2)*30*beta(5)))"
   ]
  },
  {
   "cell_type": "code",
   "execution_count": 26,
   "metadata": {},
   "outputs": [
    {
     "data": {
      "text/plain": [
       "(19/30*p^18 + 22/15*p^17 + 13/5*p^16 + 52/15*p^15 + 139/30*p^14 + 47/10*p^13 + 17/3*p^12 + 131/30*p^11 + 29/5*p^10 + 13/3*p^9 + 29/5*p^8 + 131/30*p^7 + 17/3*p^6 + 47/10*p^5 + 139/30*p^4 + 52/15*p^3 + 13/5*p^2 + 22/15*p + 19/30)/(p^18 + 2*p^17 + 4*p^16 + 5*p^15 + 7*p^14 + 7*p^13 + 8*p^12 + 7*p^11 + 8*p^10 + 7*p^9 + 8*p^8 + 7*p^7 + 8*p^6 + 7*p^5 + 7*p^4 + 5*p^3 + 4*p^2 + 2*p + 1)"
      ]
     },
     "execution_count": 26,
     "metadata": {},
     "output_type": "execute_result"
    }
   ],
   "source": [
    "rho(5)"
   ]
  },
  {
   "cell_type": "code",
   "execution_count": 27,
   "metadata": {},
   "outputs": [
    {
     "data": {
      "text/plain": [
       "(28319/44800) * (p^2 - p + 1)^-1 * (p^2 + 1)^-1 * (p^2 + p + 1)^-3 * (p^4 - p^3 + p^2 - p + 1)^-1 * (p^4 + p^3 + p^2 + p + 1)^-4 * (p^6 - p^5 + p^4 - p^3 + p^2 - p + 1)^-2 * (p^6 - p^3 + 1)^-1 * (p^6 + p^3 + 1)^-3 * (p^6 + p^5 + p^4 + p^3 + p^2 + p + 1)^-2 * (p^8 - p^6 + p^4 - p^2 + 1)^-1 * (p^10 + p^9 + p^8 + p^7 + p^6 + p^5 + p^4 + p^3 + p^2 + p + 1)^-1 * (p^18 - p^9 + 1)^-1 * (p^18 + p^9 + 1)^-2 * (p^24 - p^23 + p^19 - p^18 + p^17 - p^16 + p^14 - p^13 + p^12 - p^11 + p^10 - p^8 + p^7 - p^6 + p^5 - p + 1)^-1 * (p^174 + 1348519/254871*p^173 + 5095939/254871*p^172 + 14904836/254871*p^171 + 37869308/254871*p^170 + 85228516/254871*p^169 + 176271028/254871*p^168 + 338597935/254871*p^167 + 614808749/254871*p^166 + 1061281244/254871*p^165 + 1759778155/254871*p^164 + 937454869/84957*p^163 + 484358214/28319*p^162 + 2189784170/84957*p^161 + 9660852373/254871*p^160 + 13893678755/254871*p^159 + 19580581355/254871*p^158 + 3010691878/28319*p^157 + 36859996883/254871*p^156 + 49379811730/254871*p^155 + 65189026486/254871*p^154 + 84935578102/254871*p^153 + 109269305285/254871*p^152 + 138969952255/254871*p^151 + 174798972256/254871*p^150 + 217645829930/254871*p^149 + 89456657561/84957*p^148 + 327936488965/254871*p^147 + 397281546316/254871*p^146 + 159133635353/84957*p^145 + 569279666879/254871*p^144 + 673890340058/254871*p^143 + 792234497927/254871*p^142 + 925201975324/254871*p^141 + 1073775849215/254871*p^140 + 1238705717296/254871*p^139 + 1420915197832/254871*p^138 + 180107309065/28319*p^137 + 1839673577798/254871*p^136 + 692458264001/84957*p^135 + 2334725627885/254871*p^134 + 2611815538729/254871*p^133 + 969694559728/84957*p^132 + 1075456614407/84957*p^131 + 1187946636185/84957*p^130 + 3921092680487/254871*p^129 + 4297974289217/254871*p^128 + 4693856062817/254871*p^127 + 5108235411988/254871*p^126 + 5540270085125/254871*p^125 + 5989105176994/254871*p^124 + 6453696234208/254871*p^123 + 6932858815468/254871*p^122 + 7425359777879/254871*p^121 + 7929725846884/254871*p^120 + 8444554797025/254871*p^119 + 8968142785687/254871*p^118 + 9498937337389/254871*p^117 + 3345027803942/84957*p^116 + 10574894501393/254871*p^115 + 11116455851521/254871*p^114 + 11657962230964/254871*p^113 + 4065844303255/84957*p^112 + 12733257175537/254871*p^111 + 1473708193695/28319*p^110 + 4595295242507/84957*p^109 + 14299212324631/254871*p^108 + 4933768653475/84957*p^107 + 15290794196945/254871*p^106 + 1751736410227/28319*p^105 + 16224639767942/254871*p^104 + 16665839564816/254871*p^103 + 17088235174639/254871*p^102 + 1943329312759/28319*p^101 + 17870167607699/254871*p^100 + 18227169569881/254871*p^99 + 6186738963764/84957*p^98 + 6289287484351/84957*p^97 + 19149432296194/254871*p^96 + 19403751146975/254871*p^95 + 19630203745633/254871*p^94 + 19827915864700/254871*p^93 + 2221813917826/28319*p^92 + 20134877703220/254871*p^91 + 20243067642823/254871*p^90 + 20320661386733/254871*p^89 + 20367242477510/254871*p^88 + 6794285924458/84957*p^87 + 20367242477510/254871*p^86 + 20320661386733/254871*p^85 + 20243067642823/254871*p^84 + 20134877703220/254871*p^83 + 2221813917826/28319*p^82 + 19827915864700/254871*p^81 + 19630203745633/254871*p^80 + 19403751146975/254871*p^79 + 19149432296194/254871*p^78 + 6289287484351/84957*p^77 + 6186738963764/84957*p^76 + 18227169569881/254871*p^75 + 17870167607699/254871*p^74 + 1943329312759/28319*p^73 + 17088235174639/254871*p^72 + 16665839564816/254871*p^71 + 16224639767942/254871*p^70 + 1751736410227/28319*p^69 + 15290794196945/254871*p^68 + 4933768653475/84957*p^67 + 14299212324631/254871*p^66 + 4595295242507/84957*p^65 + 1473708193695/28319*p^64 + 12733257175537/254871*p^63 + 4065844303255/84957*p^62 + 11657962230964/254871*p^61 + 11116455851521/254871*p^60 + 10574894501393/254871*p^59 + 3345027803942/84957*p^58 + 9498937337389/254871*p^57 + 8968142785687/254871*p^56 + 8444554797025/254871*p^55 + 7929725846884/254871*p^54 + 7425359777879/254871*p^53 + 6932858815468/254871*p^52 + 6453696234208/254871*p^51 + 5989105176994/254871*p^50 + 5540270085125/254871*p^49 + 5108235411988/254871*p^48 + 4693856062817/254871*p^47 + 4297974289217/254871*p^46 + 3921092680487/254871*p^45 + 1187946636185/84957*p^44 + 1075456614407/84957*p^43 + 969694559728/84957*p^42 + 2611815538729/254871*p^41 + 2334725627885/254871*p^40 + 692458264001/84957*p^39 + 1839673577798/254871*p^38 + 180107309065/28319*p^37 + 1420915197832/254871*p^36 + 1238705717296/254871*p^35 + 1073775849215/254871*p^34 + 925201975324/254871*p^33 + 792234497927/254871*p^32 + 673890340058/254871*p^31 + 569279666879/254871*p^30 + 159133635353/84957*p^29 + 397281546316/254871*p^28 + 327936488965/254871*p^27 + 89456657561/84957*p^26 + 217645829930/254871*p^25 + 174798972256/254871*p^24 + 138969952255/254871*p^23 + 109269305285/254871*p^22 + 84935578102/254871*p^21 + 65189026486/254871*p^20 + 49379811730/254871*p^19 + 36859996883/254871*p^18 + 3010691878/28319*p^17 + 19580581355/254871*p^16 + 13893678755/254871*p^15 + 9660852373/254871*p^14 + 2189784170/84957*p^13 + 484358214/28319*p^12 + 937454869/84957*p^11 + 1759778155/254871*p^10 + 1061281244/254871*p^9 + 614808749/254871*p^8 + 338597935/254871*p^7 + 176271028/254871*p^6 + 85228516/254871*p^5 + 37869308/254871*p^4 + 14904836/254871*p^3 + 5095939/254871*p^2 + 1348519/254871*p + 1)"
      ]
     },
     "execution_count": 27,
     "metadata": {},
     "output_type": "execute_result"
    }
   ],
   "source": [
    "rho(10).factor()"
   ]
  },
  {
   "cell_type": "code",
   "execution_count": 28,
   "metadata": {},
   "outputs": [
    {
     "name": "stdout",
     "output_type": "stream",
     "text": [
      "1 1 1\n",
      "2 1/2/(p + 1) 1/2*p/(p + 1)\n",
      "3 (p^3 + 2/3*p + 2/3)/(p^4 + p^3 + p^2 + p + 1) (2/3*p^4 + 2/3*p^3 + p)/(p^4 + p^3 + p^2 + p + 1)\n",
      "4 (p^9 + 2*p^8 + 3/2*p^7 + 3/2*p^6 + 2*p^5 + 13/8*p^4 + 13/8*p^3 + 15/8*p^2 + 13/8*p + 5/8)/(p^10 + 3*p^9 + 4*p^8 + 4*p^7 + 4*p^6 + 4*p^5 + 4*p^4 + 4*p^3 + 4*p^2 + 3*p + 1) (5/8*p^10 + 13/8*p^9 + 15/8*p^8 + 13/8*p^7 + 13/8*p^6 + 2*p^5 + 3/2*p^4 + 3/2*p^3 + 2*p^2 + p)/(p^10 + 3*p^9 + 4*p^8 + 4*p^7 + 4*p^6 + 4*p^5 + 4*p^4 + 4*p^3 + 4*p^2 + 3*p + 1)\n",
      "5 (p^16 + p^15 + 3/2*p^14 + 2*p^13 + 5/2*p^12 + 5/3*p^11 + 8/3*p^10 + 3/2*p^9 + 3*p^8 + 17/15*p^7 + 31/10*p^6 + 7/5*p^5 + 27/10*p^4 + 17/10*p^3 + 7/5*p^2 + 11/10*p + 19/30)/(p^17 + 2*p^16 + 3*p^15 + 4*p^14 + 5*p^13 + 5*p^12 + 5*p^11 + 5*p^10 + 5*p^9 + 5*p^8 + 5*p^7 + 5*p^6 + 5*p^5 + 5*p^4 + 4*p^3 + 3*p^2 + 2*p + 1) (19/30*p^17 + 11/10*p^16 + 7/5*p^15 + 17/10*p^14 + 27/10*p^13 + 7/5*p^12 + 31/10*p^11 + 17/15*p^10 + 3*p^9 + 3/2*p^8 + 8/3*p^7 + 5/3*p^6 + 5/2*p^5 + 2*p^4 + 3/2*p^3 + p^2 + p)/(p^17 + 2*p^16 + 3*p^15 + 4*p^14 + 5*p^13 + 5*p^12 + 5*p^11 + 5*p^10 + 5*p^9 + 5*p^8 + 5*p^7 + 5*p^6 + 5*p^5 + 5*p^4 + 4*p^3 + 3*p^2 + 2*p + 1)\n",
      "6 (p^36 + 5*p^35 + 27/2*p^34 + 28*p^33 + 101/2*p^32 + 242/3*p^31 + 349/3*p^30 + 156*p^29 + 595/3*p^28 + 5767/24*p^27 + 2231/8*p^26 + 940/3*p^25 + 4103/12*p^24 + 2897/8*p^23 + 54007/144*p^22 + 18355/48*p^21 + 55469/144*p^20 + 55571/144*p^19 + 4631/12*p^18 + 55531/144*p^17 + 55415/144*p^16 + 18275/48*p^15 + 26783/72*p^14 + 51481/144*p^13 + 8039/24*p^12 + 5483/18*p^11 + 2153/8*p^10 + 33049/144*p^9 + 13475/72*p^8 + 2327/16*p^7 + 15401/144*p^6 + 10411/144*p^5 + 44*p^4 + 3425/144*p^3 + 1553/144*p^2 + 173/48*p + 91/144)/(p^37 + 6*p^36 + 19*p^35 + 44*p^34 + 85*p^33 + 144*p^32 + 219*p^31 + 306*p^30 + 401*p^29 + 499*p^28 + 594*p^27 + 681*p^26 + 756*p^25 + 815*p^24 + 856*p^23 + 881*p^22 + 894*p^21 + 899*p^20 + 900*p^19 + 900*p^18 + 899*p^17 + 894*p^16 + 881*p^15 + 856*p^14 + 815*p^13 + 756*p^12 + 681*p^11 + 594*p^10 + 499*p^9 + 401*p^8 + 306*p^7 + 219*p^6 + 144*p^5 + 85*p^4 + 44*p^3 + 19*p^2 + 6*p + 1) (91/144*p^37 + 173/48*p^36 + 1553/144*p^35 + 3425/144*p^34 + 44*p^33 + 10411/144*p^32 + 15401/144*p^31 + 2327/16*p^30 + 13475/72*p^29 + 33049/144*p^28 + 2153/8*p^27 + 5483/18*p^26 + 8039/24*p^25 + 51481/144*p^24 + 26783/72*p^23 + 18275/48*p^22 + 55415/144*p^21 + 55531/144*p^20 + 4631/12*p^19 + 55571/144*p^18 + 55469/144*p^17 + 18355/48*p^16 + 54007/144*p^15 + 2897/8*p^14 + 4103/12*p^13 + 940/3*p^12 + 2231/8*p^11 + 5767/24*p^10 + 595/3*p^9 + 156*p^8 + 349/3*p^7 + 242/3*p^6 + 101/2*p^5 + 28*p^4 + 27/2*p^3 + 5*p^2 + p)/(p^37 + 6*p^36 + 19*p^35 + 44*p^34 + 85*p^33 + 144*p^32 + 219*p^31 + 306*p^30 + 401*p^29 + 499*p^28 + 594*p^27 + 681*p^26 + 756*p^25 + 815*p^24 + 856*p^23 + 881*p^22 + 894*p^21 + 899*p^20 + 900*p^19 + 900*p^18 + 899*p^17 + 894*p^16 + 881*p^15 + 856*p^14 + 815*p^13 + 756*p^12 + 681*p^11 + 594*p^10 + 499*p^9 + 401*p^8 + 306*p^7 + 219*p^6 + 144*p^5 + 85*p^4 + 44*p^3 + 19*p^2 + 6*p + 1)\n"
     ]
    }
   ],
   "source": [
    "for i in [1..6]:\n",
    "    print(i, alpha(i), beta(i))"
   ]
  },
  {
   "cell_type": "markdown",
   "metadata": {},
   "source": [
    "Testing the symmetry conjecture:"
   ]
  },
  {
   "cell_type": "code",
   "execution_count": 29,
   "metadata": {},
   "outputs": [
    {
     "data": {
      "text/plain": [
       "True"
      ]
     },
     "execution_count": 29,
     "metadata": {},
     "output_type": "execute_result"
    }
   ],
   "source": [
    "from basics import star\n",
    "all([star(alpha(d)) == beta(d) for d in [2..10]])"
   ]
  },
  {
   "cell_type": "code",
   "execution_count": 30,
   "metadata": {},
   "outputs": [
    {
     "data": {
      "text/plain": [
       "True"
      ]
     },
     "execution_count": 30,
     "metadata": {},
     "output_type": "execute_result"
    }
   ],
   "source": [
    "all([star(rho(d))==rho(d) for d in [2..10]])"
   ]
  },
  {
   "cell_type": "code",
   "execution_count": 31,
   "metadata": {},
   "outputs": [
    {
     "data": {
      "text/plain": [
       "(dict_keys([0, 1, 2, 3, 4, 5, 6, 7, 8, 9, 10]),\n",
       " dict_keys([0, 1, 2, 3, 4, 5, 6, 7, 8, 9, 10]))"
      ]
     },
     "execution_count": 31,
     "metadata": {},
     "output_type": "execute_result"
    }
   ],
   "source": [
    "alpha_dict.keys(), beta_dict.keys()"
   ]
  },
  {
   "cell_type": "code",
   "execution_count": 32,
   "metadata": {},
   "outputs": [
    {
     "data": {
      "text/plain": [
       "168"
      ]
     },
     "execution_count": 32,
     "metadata": {},
     "output_type": "execute_result"
    }
   ],
   "source": [
    "alpha(10).numerator().degree()"
   ]
  },
  {
   "cell_type": "code",
   "execution_count": 33,
   "metadata": {},
   "outputs": [
    {
     "data": {
      "text/plain": [
       "[(p - 1) * p^-2,\n",
       " (p - 1) * p^-5 * (p + 1)^-1 * (p^4 + p^3 + 1/2*p^2 + p + 1),\n",
       " (p - 1) * p^-9 * (p + 1)^-1 * (p^4 + p^3 + p^2 + p + 1)^-1 * (p^12 + 2*p^11 + 5/2*p^10 + 7/2*p^9 + 9/2*p^8 + 25/6*p^7 + 13/3*p^6 + 25/6*p^5 + 9/2*p^4 + 7/2*p^3 + 5/2*p^2 + 2*p + 1)]"
      ]
     },
     "execution_count": 33,
     "metadata": {},
     "output_type": "execute_result"
    }
   ],
   "source": [
    "[gamma(d).factor() for d in range(3,6)]"
   ]
  },
  {
   "cell_type": "code",
   "execution_count": 34,
   "metadata": {},
   "outputs": [
    {
     "data": {
      "text/plain": [
       "[(1/2) * (p - 1) * p^-1,\n",
       " (2/3) * (p - 1) * p^-2 * (p + 1),\n",
       " (5/8) * (p - 1) * p^-3 * (p + 1)^-2 * (p^4 + 13/5*p^3 + 3*p^2 + 13/5*p + 1),\n",
       " (19/30) * (p - 1) * p^-4 * (p + 1)^-1 * (p^4 + p^3 + p^2 + p + 1)^-1 * (p^8 + 52/19*p^7 + 75/19*p^6 + 93/19*p^5 + 132/19*p^4 + 93/19*p^3 + 75/19*p^2 + 52/19*p + 1)]"
      ]
     },
     "execution_count": 34,
     "metadata": {},
     "output_type": "execute_result"
    }
   ],
   "source": [
    "[delta(d).factor() for d in range(2,6)]"
   ]
  },
  {
   "cell_type": "markdown",
   "metadata": {},
   "source": [
    "Testing Tom's formula linking $\\rho_d$ and $\\rho_d^s$"
   ]
  },
  {
   "cell_type": "code",
   "execution_count": 35,
   "metadata": {},
   "outputs": [],
   "source": [
    "def test(d, verbose=False):\n",
    "    rho_d = rho(d)\n",
    "    RHS = sum([(-1)**j * j * rhostar(j) for j in [2..d-1]]) + (-1)**d * (d-1) * rhostar(d)\n",
    "    if verbose:\n",
    "        print(\"d = {}:\\nrho = {}\".format(d, rho_d))\n",
    "        print(\"RHS = {}\".format(RHS))\n",
    "        print(\"difference = {}\".format(rho_d-RHS))\n",
    "    return rho_d==RHS"
   ]
  },
  {
   "cell_type": "code",
   "execution_count": 37,
   "metadata": {},
   "outputs": [
    {
     "ename": "KeyError",
     "evalue": "1",
     "output_type": "error",
     "traceback": [
      "\u001b[0;31m---------------------------------------------------------------------------\u001b[0m",
      "\u001b[0;31mKeyError\u001b[0m                                  Traceback (most recent call last)",
      "\u001b[0;32m<ipython-input-37-ceb9bf4ce3d1>\u001b[0m in \u001b[0;36m<module>\u001b[0;34m()\u001b[0m\n\u001b[0;32m----> 1\u001b[0;31m \u001b[0;34m[\u001b[0m\u001b[0mtest\u001b[0m\u001b[0;34m(\u001b[0m\u001b[0md\u001b[0m\u001b[0;34m,\u001b[0m \u001b[0;32mTrue\u001b[0m\u001b[0;34m)\u001b[0m \u001b[0;32mfor\u001b[0m \u001b[0md\u001b[0m \u001b[0;32min\u001b[0m \u001b[0mrange\u001b[0m\u001b[0;34m(\u001b[0m\u001b[0mInteger\u001b[0m\u001b[0;34m(\u001b[0m\u001b[0;36m1\u001b[0m\u001b[0;34m)\u001b[0m\u001b[0;34m,\u001b[0m\u001b[0mInteger\u001b[0m\u001b[0;34m(\u001b[0m\u001b[0;36m11\u001b[0m\u001b[0;34m)\u001b[0m\u001b[0;34m)\u001b[0m\u001b[0;34m]\u001b[0m\u001b[0;34m\u001b[0m\u001b[0;34m\u001b[0m\u001b[0m\n\u001b[0m",
      "\u001b[0;32m<ipython-input-37-ceb9bf4ce3d1>\u001b[0m in \u001b[0;36m<listcomp>\u001b[0;34m(.0)\u001b[0m\n\u001b[0;32m----> 1\u001b[0;31m \u001b[0;34m[\u001b[0m\u001b[0mtest\u001b[0m\u001b[0;34m(\u001b[0m\u001b[0md\u001b[0m\u001b[0;34m,\u001b[0m \u001b[0;32mTrue\u001b[0m\u001b[0;34m)\u001b[0m \u001b[0;32mfor\u001b[0m \u001b[0md\u001b[0m \u001b[0;32min\u001b[0m \u001b[0mrange\u001b[0m\u001b[0;34m(\u001b[0m\u001b[0mInteger\u001b[0m\u001b[0;34m(\u001b[0m\u001b[0;36m1\u001b[0m\u001b[0;34m)\u001b[0m\u001b[0;34m,\u001b[0m\u001b[0mInteger\u001b[0m\u001b[0;34m(\u001b[0m\u001b[0;36m11\u001b[0m\u001b[0;34m)\u001b[0m\u001b[0;34m)\u001b[0m\u001b[0;34m]\u001b[0m\u001b[0;34m\u001b[0m\u001b[0;34m\u001b[0m\u001b[0m\n\u001b[0m",
      "\u001b[0;32m<ipython-input-35-2b53d8dce98c>\u001b[0m in \u001b[0;36mtest\u001b[0;34m(d, verbose)\u001b[0m\n\u001b[1;32m      1\u001b[0m \u001b[0;32mdef\u001b[0m \u001b[0mtest\u001b[0m\u001b[0;34m(\u001b[0m\u001b[0md\u001b[0m\u001b[0;34m,\u001b[0m \u001b[0mverbose\u001b[0m\u001b[0;34m=\u001b[0m\u001b[0;32mFalse\u001b[0m\u001b[0;34m)\u001b[0m\u001b[0;34m:\u001b[0m\u001b[0;34m\u001b[0m\u001b[0;34m\u001b[0m\u001b[0m\n\u001b[1;32m      2\u001b[0m     \u001b[0mrho_d\u001b[0m \u001b[0;34m=\u001b[0m \u001b[0mrho\u001b[0m\u001b[0;34m(\u001b[0m\u001b[0md\u001b[0m\u001b[0;34m)\u001b[0m\u001b[0;34m\u001b[0m\u001b[0;34m\u001b[0m\u001b[0m\n\u001b[0;32m----> 3\u001b[0;31m     \u001b[0mRHS\u001b[0m \u001b[0;34m=\u001b[0m \u001b[0msum\u001b[0m\u001b[0;34m(\u001b[0m\u001b[0;34m[\u001b[0m\u001b[0;34m(\u001b[0m\u001b[0;34m-\u001b[0m\u001b[0mInteger\u001b[0m\u001b[0;34m(\u001b[0m\u001b[0;36m1\u001b[0m\u001b[0;34m)\u001b[0m\u001b[0;34m)\u001b[0m\u001b[0;34m**\u001b[0m\u001b[0mj\u001b[0m \u001b[0;34m*\u001b[0m \u001b[0mj\u001b[0m \u001b[0;34m*\u001b[0m \u001b[0mrhostar\u001b[0m\u001b[0;34m(\u001b[0m\u001b[0mj\u001b[0m\u001b[0;34m)\u001b[0m \u001b[0;32mfor\u001b[0m \u001b[0mj\u001b[0m \u001b[0;32min\u001b[0m \u001b[0;34m(\u001b[0m\u001b[0mellipsis_range\u001b[0m\u001b[0;34m(\u001b[0m\u001b[0mInteger\u001b[0m\u001b[0;34m(\u001b[0m\u001b[0;36m2\u001b[0m\u001b[0;34m)\u001b[0m\u001b[0;34m,\u001b[0m\u001b[0mEllipsis\u001b[0m\u001b[0;34m,\u001b[0m\u001b[0md\u001b[0m\u001b[0;34m-\u001b[0m\u001b[0mInteger\u001b[0m\u001b[0;34m(\u001b[0m\u001b[0;36m1\u001b[0m\u001b[0;34m)\u001b[0m\u001b[0;34m)\u001b[0m\u001b[0;34m)\u001b[0m\u001b[0;34m]\u001b[0m\u001b[0;34m)\u001b[0m \u001b[0;34m+\u001b[0m \u001b[0;34m(\u001b[0m\u001b[0;34m-\u001b[0m\u001b[0mInteger\u001b[0m\u001b[0;34m(\u001b[0m\u001b[0;36m1\u001b[0m\u001b[0;34m)\u001b[0m\u001b[0;34m)\u001b[0m\u001b[0;34m**\u001b[0m\u001b[0md\u001b[0m \u001b[0;34m*\u001b[0m \u001b[0;34m(\u001b[0m\u001b[0md\u001b[0m\u001b[0;34m-\u001b[0m\u001b[0mInteger\u001b[0m\u001b[0;34m(\u001b[0m\u001b[0;36m1\u001b[0m\u001b[0;34m)\u001b[0m\u001b[0;34m)\u001b[0m \u001b[0;34m*\u001b[0m \u001b[0mrhostar\u001b[0m\u001b[0;34m(\u001b[0m\u001b[0md\u001b[0m\u001b[0;34m)\u001b[0m\u001b[0;34m\u001b[0m\u001b[0;34m\u001b[0m\u001b[0m\n\u001b[0m\u001b[1;32m      4\u001b[0m     \u001b[0;32mif\u001b[0m \u001b[0mverbose\u001b[0m\u001b[0;34m:\u001b[0m\u001b[0;34m\u001b[0m\u001b[0;34m\u001b[0m\u001b[0m\n\u001b[1;32m      5\u001b[0m         \u001b[0mprint\u001b[0m\u001b[0;34m(\u001b[0m\u001b[0;34m\"d = {}:\\nrho = {}\"\u001b[0m\u001b[0;34m.\u001b[0m\u001b[0mformat\u001b[0m\u001b[0;34m(\u001b[0m\u001b[0md\u001b[0m\u001b[0;34m,\u001b[0m \u001b[0mrho_d\u001b[0m\u001b[0;34m)\u001b[0m\u001b[0;34m)\u001b[0m\u001b[0;34m\u001b[0m\u001b[0;34m\u001b[0m\u001b[0m\n",
      "\u001b[0;32m<string>\u001b[0m in \u001b[0;36mrhostar\u001b[0;34m(d)\u001b[0m\n",
      "\u001b[0;32m/usr/local/sage-9.0/local/lib/python3.7/site-packages/sage/misc/functional.py\u001b[0m in \u001b[0;36msymbolic_sum\u001b[0;34m(expression, *args, **kwds)\u001b[0m\n\u001b[1;32m    575\u001b[0m         \u001b[0;32mreturn\u001b[0m \u001b[0mexpression\u001b[0m\u001b[0;34m.\u001b[0m\u001b[0msum\u001b[0m\u001b[0;34m(\u001b[0m\u001b[0;34m*\u001b[0m\u001b[0margs\u001b[0m\u001b[0;34m,\u001b[0m \u001b[0;34m**\u001b[0m\u001b[0mkwds\u001b[0m\u001b[0;34m)\u001b[0m\u001b[0;34m\u001b[0m\u001b[0;34m\u001b[0m\u001b[0m\n\u001b[1;32m    576\u001b[0m     \u001b[0;32melif\u001b[0m \u001b[0mlen\u001b[0m\u001b[0;34m(\u001b[0m\u001b[0margs\u001b[0m\u001b[0;34m)\u001b[0m \u001b[0;34m<=\u001b[0m \u001b[0;36m1\u001b[0m\u001b[0;34m:\u001b[0m\u001b[0;34m\u001b[0m\u001b[0;34m\u001b[0m\u001b[0m\n\u001b[0;32m--> 577\u001b[0;31m         \u001b[0;32mreturn\u001b[0m \u001b[0msum\u001b[0m\u001b[0;34m(\u001b[0m\u001b[0mexpression\u001b[0m\u001b[0;34m,\u001b[0m \u001b[0;34m*\u001b[0m\u001b[0margs\u001b[0m\u001b[0;34m)\u001b[0m\u001b[0;34m\u001b[0m\u001b[0;34m\u001b[0m\u001b[0m\n\u001b[0m\u001b[1;32m    578\u001b[0m     \u001b[0;32melse\u001b[0m\u001b[0;34m:\u001b[0m\u001b[0;34m\u001b[0m\u001b[0;34m\u001b[0m\u001b[0m\n\u001b[1;32m    579\u001b[0m         \u001b[0;32mfrom\u001b[0m \u001b[0msage\u001b[0m\u001b[0;34m.\u001b[0m\u001b[0msymbolic\u001b[0m\u001b[0;34m.\u001b[0m\u001b[0mring\u001b[0m \u001b[0;32mimport\u001b[0m \u001b[0mSR\u001b[0m\u001b[0;34m\u001b[0m\u001b[0;34m\u001b[0m\u001b[0m\n",
      "\u001b[0;32m<string>\u001b[0m in \u001b[0;36m<genexpr>\u001b[0;34m(.0)\u001b[0m\n",
      "\u001b[0;32m<string>\u001b[0m in \u001b[0;36m<listcomp>\u001b[0;34m(.0)\u001b[0m\n",
      "\u001b[0;32m<string>\u001b[0m in \u001b[0;36malpha_s\u001b[0;34m(i)\u001b[0m\n",
      "\u001b[0;31mKeyError\u001b[0m: 1"
     ]
    }
   ],
   "source": [
    "[test(d, True) for d in range(1,11)]"
   ]
  },
  {
   "cell_type": "code",
   "execution_count": 17,
   "metadata": {},
   "outputs": [
    {
     "data": {
      "text/plain": [
       "[[1, 1, 1],\n",
       " [1/4, 1/4, 1/2],\n",
       " [7/15, 7/15, 11/15],\n",
       " [41/96, 41/96, 79/120],\n",
       " [3/7, 3/7, 71/105],\n",
       " [61711/144000, 61711/144000, 84839/126000],\n",
       " [4861/11340, 4861/11340, 7639/11340],\n",
       " [241993237/564480000, 241993237/564480000, 71294623/105840000],\n",
       " [13369087/31185000, 13369087/31185000, 21006479/31185000]]"
      ]
     },
     "execution_count": 17,
     "metadata": {},
     "output_type": "execute_result"
    }
   ],
   "source": [
    "from basics import subs\n",
    "[[subs(a(d),1) for a in [alpha, beta, rho]] for d in range(1,10)]"
   ]
  },
  {
   "cell_type": "code",
   "execution_count": 20,
   "metadata": {},
   "outputs": [
    {
     "data": {
      "text/plain": [
       "[1/2,\n",
       " 2^2 * 3^-1 * 5^-1,\n",
       " 2^-3 * 3^-1 * 5^-1 * 41,\n",
       " 2 * 3^-1 * 5^-1 * 7^-1 * 17,\n",
       " 2^-4 * 3^-2 * 5^-3 * 7^-1 * 41161,\n",
       " 2^-2 * 3^-4 * 5^-1 * 7^-1 * 3701,\n",
       " 2^-7 * 3^-3 * 5^-4 * 7^-2 * 17 * 31 * 65551,\n",
       " 2^-3 * 3^-4 * 5^-4 * 7^-1 * 11^-1 * 61 * 166861]"
      ]
     },
     "execution_count": 20,
     "metadata": {},
     "output_type": "execute_result"
    }
   ],
   "source": [
    "[subs(1-rho(d),1).factor() for d in range(2,10)]"
   ]
  },
  {
   "cell_type": "code",
   "execution_count": 21,
   "metadata": {},
   "outputs": [
    {
     "data": {
      "text/plain": [
       "p"
      ]
     },
     "execution_count": 21,
     "metadata": {},
     "output_type": "execute_result"
    }
   ],
   "source": [
    "p"
   ]
  },
  {
   "cell_type": "code",
   "execution_count": 38,
   "metadata": {},
   "outputs": [],
   "source": [
    "def a(n):\n",
    "    return ((1-p^(-1))*(1-p^((1-n^2)//2))) / ((1-p^((-1-n)//2))*(1-p^((2-n-n^2)//2)))"
   ]
  },
  {
   "cell_type": "code",
   "execution_count": 41,
   "metadata": {},
   "outputs": [],
   "source": [
    "def b(n):\n",
    "    return ((1-p^(-1))*(p^(1-n))*(1-p^((1-n^2)//2))) / ((1-p^((-1-n)//2))*(1-p^((2-n-n^2)//2)))"
   ]
  },
  {
   "cell_type": "code",
   "execution_count": 61,
   "metadata": {},
   "outputs": [],
   "source": [
    "def r(n):\n",
    "    return ((1 - p^(-1))^2*(1 + p^(-1))*p^(1 - n)*(1 - p^((1 - n^2)//2)))/((1 - p^((-1 - n)//2))*(1 - p^(-1 - n))*\n",
    "   (1 - p^((2 - n - n^2)//2)))"
   ]
  },
  {
   "cell_type": "code",
   "execution_count": 50,
   "metadata": {},
   "outputs": [
    {
     "data": {
      "text/plain": [
       "True"
      ]
     },
     "execution_count": 50,
     "metadata": {},
     "output_type": "execute_result"
    }
   ],
   "source": [
    "all([subs(a(n),1/p)==b(n) for n in [3,5..100]])"
   ]
  },
  {
   "cell_type": "code",
   "execution_count": 67,
   "metadata": {},
   "outputs": [
    {
     "data": {
      "text/plain": [
       "True"
      ]
     },
     "execution_count": 67,
     "metadata": {},
     "output_type": "execute_result"
    }
   ],
   "source": [
    "all([r(n) == ( ((p-1)/p) * b(n) + ((p-1)/p) * (1/p) * b(n) ) / (1-1/p^(n+1)) for n in [3,5..100]])"
   ]
  },
  {
   "cell_type": "code",
   "execution_count": 68,
   "metadata": {},
   "outputs": [
    {
     "data": {
      "text/plain": [
       "True"
      ]
     },
     "execution_count": 68,
     "metadata": {},
     "output_type": "execute_result"
    }
   ],
   "source": [
    "all([r(n) == (1-1/p^2) * b(n) / (1-1/p^(n+1)) for n in [3,5..100]])"
   ]
  },
  {
   "cell_type": "code",
   "execution_count": 69,
   "metadata": {},
   "outputs": [
    {
     "data": {
      "text/plain": [
       "(p/(p + 1), 1/(p + 1), p/(p^2 + p + 1))"
      ]
     },
     "execution_count": 69,
     "metadata": {},
     "output_type": "execute_result"
    }
   ],
   "source": [
    "a(2), b(2), r(2)"
   ]
  },
  {
   "cell_type": "code",
   "execution_count": null,
   "metadata": {},
   "outputs": [],
   "source": []
  }
 ],
 "metadata": {
  "kernelspec": {
   "display_name": "SageMath 9.0",
   "language": "sage",
   "name": "sagemath"
  },
  "language_info": {
   "codemirror_mode": {
    "name": "ipython",
    "version": 3
   },
   "file_extension": ".py",
   "mimetype": "text/x-python",
   "name": "python",
   "nbconvert_exporter": "python",
   "pygments_lexer": "ipython3",
   "version": "3.7.3"
  }
 },
 "nbformat": 4,
 "nbformat_minor": 2
}
