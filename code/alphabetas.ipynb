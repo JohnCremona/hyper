{
 "cells": [
  {
   "cell_type": "markdown",
   "metadata": {},
   "source": [
    "**Load all the code**"
   ]
  },
  {
   "cell_type": "code",
   "execution_count": 8,
   "metadata": {},
   "outputs": [
    {
     "name": "stdout",
     "output_type": "stream",
     "text": [
      "Initializing alpha^0_i for i=0,1,2 to 0,1,1/2\n",
      "Initializing alpha^+_i for i=0,1,2 to 1,1,1/p with p=p\n",
      "Initializing alpha^-_i for i=0,1,2 to 0,1,1/(p+1) with p=p\n",
      "Initializing beta^0_i for i=0,1,2 to 0,1,1/2\n",
      "Initializing beta^+_i for i=0,1,2 to 1,1,1\n",
      "Initializing beta^-_i for i=0,1,2 to 0,1,p/(p+1) with p=p\n"
     ]
    }
   ],
   "source": [
    "%runfile alphabeta.sage"
   ]
  },
  {
   "cell_type": "markdown",
   "metadata": {},
   "source": [
    "**Read in precomputed $\\Gamma^+$ and $\\Gamma^-$ sets**"
   ]
  },
  {
   "cell_type": "code",
   "execution_count": 9,
   "metadata": {},
   "outputs": [
    {
     "name": "stdout",
     "output_type": "stream",
     "text": [
      "Restoring Gamma_plus\n",
      "Restoring Gamma_minus\n"
     ]
    }
   ],
   "source": [
    "restore_Gammas()"
   ]
  },
  {
   "cell_type": "markdown",
   "metadata": {},
   "source": [
    "**$\\Gamma^+$ precomputed for these primes and degree ranges:**"
   ]
  },
  {
   "cell_type": "code",
   "execution_count": 10,
   "metadata": {},
   "outputs": [
    {
     "data": {
      "text/plain": [
       "[(2, {1, 2, 3, 4, 5, 6, 7, 8, 9, 10, 11, 12}),\n",
       " (3, {1, 2, 3, 4, 5, 6, 7, 8}),\n",
       " (5, {1, 2, 3, 4, 5, 6, 7, 8}),\n",
       " (7, {1, 2, 3, 4, 5, 6, 7, 8}),\n",
       " (11, {1, 2, 3, 4, 5, 6, 7, 8}),\n",
       " (13, {1, 2, 3, 4, 5, 6, 7, 8}),\n",
       " (17, {1, 2, 3, 4, 5, 6, 7, 8}),\n",
       " (19, {1, 2, 3, 4, 5, 6, 7, 8}),\n",
       " (23, {1, 2, 3, 4, 5, 6, 7, 8}),\n",
       " (29, {1, 2, 3, 4, 5, 6, 7, 8}),\n",
       " (31, {1, 2, 3, 4, 5, 6, 7, 8})]"
      ]
     },
     "execution_count": 10,
     "metadata": {},
     "output_type": "execute_result"
    }
   ],
   "source": [
    "[(p,Set([k[1] for k in Gamma_plus_dict.keys() if k[0]==p])) \n",
    "         for p in Set([k[0] for k in Gamma_plus_dict.keys()])]"
   ]
  },
  {
   "cell_type": "markdown",
   "metadata": {},
   "source": [
    "**$\\Gamma^-$ precomputed for these primes and degree ranges:**"
   ]
  },
  {
   "cell_type": "code",
   "execution_count": 11,
   "metadata": {},
   "outputs": [
    {
     "data": {
      "text/plain": [
       "[(2, {1, 2, 3, 4, 5, 6, 7, 8, 9, 10, 12}),\n",
       " (3, {8, 4, 6}),\n",
       " (5, {8, 4, 6}),\n",
       " (7, {8, 4, 6}),\n",
       " (11, {8, 4, 6}),\n",
       " (13, {8, 4, 6}),\n",
       " (17, {8, 4, 6}),\n",
       " (19, {8, 4, 6}),\n",
       " (23, {8, 4, 6}),\n",
       " (29, {8, 4, 6}),\n",
       " (31, {8, 4, 6})]"
      ]
     },
     "execution_count": 11,
     "metadata": {},
     "output_type": "execute_result"
    }
   ],
   "source": [
    "[(p,Set([k[1] for k in Gamma_minus_dict.keys() if k[0]==p])) \n",
    "         for p in Set([k[0] for k in Gamma_minus_dict.keys()])]"
   ]
  },
  {
   "cell_type": "markdown",
   "metadata": {},
   "source": [
    "**NB since we have no $\\Gamma_i^{\\pm}$ for $i>8$, we will not obtain correct density formulas for $g\\ge4$ except at primes for which the additional $\\Gamma_i^{\\pm}$ are known to be empty.**"
   ]
  },
  {
   "cell_type": "markdown",
   "metadata": {},
   "source": [
    "**For $i=0,1,2$ we initialize the values $\\alpha_i^0$, $\\alpha_i^+$ and $\\alpha_i^-$ for general $p$:**"
   ]
  },
  {
   "cell_type": "code",
   "execution_count": 12,
   "metadata": {},
   "outputs": [
    {
     "name": "stdout",
     "output_type": "stream",
     "text": [
      "Initializing alpha^0_i for i=0,1,2 to 0,1,1/2\n",
      "Initializing alpha^+_i for i=0,1,2 to 1,1,1/p with p=p\n",
      "Initializing alpha^-_i for i=0,1,2 to 0,1,1/(p+1) with p=p\n",
      "Initializing beta^0_i for i=0,1,2 to 0,1,1/2\n",
      "Initializing beta^+_i for i=0,1,2 to 1,1,1\n",
      "Initializing beta^-_i for i=0,1,2 to 0,1,p/(p+1) with p=p\n"
     ]
    }
   ],
   "source": [
    "initialize_alpha_beta_dicts()"
   ]
  },
  {
   "cell_type": "markdown",
   "metadata": {},
   "source": [
    "**Now for $i\\le10$ we use the recursive formulas to compute all $\\alpha_i^{\\epsilon}$**"
   ]
  },
  {
   "cell_type": "code",
   "execution_count": 13,
   "metadata": {},
   "outputs": [
    {
     "name": "stdout",
     "output_type": "stream",
     "text": [
      "i=3, i=4, i=5, i=6, i=7, i=8, i=9, i=10, "
     ]
    }
   ],
   "source": [
    "for i in range(3,11):\n",
    "    print(\"i={}\".format(i), end=\", \")\n",
    "    make_alphas(i, verbose=False)"
   ]
  },
  {
   "cell_type": "markdown",
   "metadata": {},
   "source": [
    "**We now have the following $\\alpha_i$:**"
   ]
  },
  {
   "cell_type": "code",
   "execution_count": 14,
   "metadata": {},
   "outputs": [
    {
     "name": "stdout",
     "output_type": "stream",
     "text": [
      "[(0, p), (1, p), (2, p), (3, p), (4, p), (5, p), (6, p), (7, p), (8, p), (9, p), (10, p)]\n",
      "[(0, p), (1, p), (2, p), (3, p), (4, p), (5, p), (6, p), (7, p), (8, p), (9, p), (10, p)]\n",
      "[(0, p), (1, p), (2, p), (3, p), (4, p), (5, p), (6, p), (7, p), (8, p), (9, p), (10, p)]\n"
     ]
    }
   ],
   "source": [
    "for d in [alpha_0_dict, alpha_plus_dict, alpha_minus_dict]:\n",
    "    print(list(d.keys()))"
   ]
  },
  {
   "cell_type": "markdown",
   "metadata": {},
   "source": [
    "**and in the course of computing these we have also computed these $\\beta$s:**"
   ]
  },
  {
   "cell_type": "code",
   "execution_count": 15,
   "metadata": {},
   "outputs": [
    {
     "name": "stdout",
     "output_type": "stream",
     "text": [
      "[(0, p), (1, p), (2, p), (3, p), (4, p), (5, p), (6, p), (7, p), (8, p), (9, p)]\n",
      "[(0, p), (1, p), (2, p), (3, p), (4, p), (5, p), (6, p), (7, p), (8, p), (9, p), (10, p)]\n",
      "[(0, p), (1, p), (2, p), (3, p), (4, p), (5, p), (6, p), (7, p), (8, p), (9, p)]\n"
     ]
    }
   ],
   "source": [
    "for d in [beta_0_dict, beta_plus_dict, beta_minus_dict]:\n",
    "    print(list(d.keys()))"
   ]
  },
  {
   "cell_type": "markdown",
   "metadata": {},
   "source": [
    "**For some small $p$ we need to compute $\\alpha$s and $\\beta$s separately since the generic formulas are only valid for sufficiently large $p$:**"
   ]
  },
  {
   "cell_type": "code",
   "execution_count": 16,
   "metadata": {
    "scrolled": false
   },
   "outputs": [
    {
     "name": "stdout",
     "output_type": "stream",
     "text": [
      "p=2 done, p=3 done, p=5 done, p=7 done, p=11 done, p=13 done, "
     ]
    }
   ],
   "source": [
    "for p in [2,3,5,7,11,13]:\n",
    "    print(\"p={}\".format(p), end=\" \")\n",
    "    make_alphas(8,p, verbose=False)\n",
    "    print(\"done\", end=\", \")"
   ]
  },
  {
   "cell_type": "markdown",
   "metadata": {},
   "source": [
    "**The stored $\\alpha$s are now**"
   ]
  },
  {
   "cell_type": "code",
   "execution_count": 17,
   "metadata": {
    "scrolled": true
   },
   "outputs": [
    {
     "name": "stdout",
     "output_type": "stream",
     "text": [
      "[(0, p), (1, p), (2, p), (3, p), (4, p), (5, p), (6, p), (7, p), (8, p), (9, p), (10, p), (2, 2), (1, 2), (3, 2), (4, 2), (5, 2), (6, 2), (7, 2), (8, 2), (2, 3), (1, 3), (3, 3), (4, 3), (5, 3), (6, 3), (7, 3), (8, 3), (2, 5), (1, 5), (3, 5), (4, 5), (5, 5), (6, 5), (7, 5), (8, 5), (2, 7), (1, 7), (3, 7), (4, 7), (5, 7), (6, 7), (7, 7), (8, 7), (2, 11), (1, 11), (3, 11), (4, 11), (5, 11), (6, 11), (7, 11), (8, 11), (2, 13), (1, 13), (3, 13), (4, 13), (5, 13), (6, 13), (7, 13), (8, 13)]\n",
      "[(0, p), (1, p), (2, p), (3, p), (4, p), (5, p), (6, p), (7, p), (8, p), (9, p), (10, p), (2, 2), (3, 2), (4, 2), (5, 2), (6, 2), (7, 2), (8, 2), (2, 3), (3, 3), (4, 3), (5, 3), (6, 3), (7, 3), (8, 3), (2, 5), (3, 5), (4, 5), (5, 5), (6, 5), (7, 5), (8, 5), (2, 7), (3, 7), (4, 7), (5, 7), (6, 7), (7, 7), (8, 7), (2, 11), (3, 11), (4, 11), (5, 11), (6, 11), (7, 11), (8, 11), (2, 13), (3, 13), (4, 13), (5, 13), (6, 13), (7, 13), (8, 13)]\n",
      "[(0, p), (1, p), (2, p), (3, p), (4, p), (5, p), (6, p), (7, p), (8, p), (9, p), (10, p), (2, 2), (3, 2), (4, 2), (5, 2), (6, 2), (7, 2), (8, 2), (2, 3), (3, 3), (4, 3), (5, 3), (6, 3), (7, 3), (8, 3), (2, 5), (3, 5), (4, 5), (5, 5), (6, 5), (7, 5), (8, 5), (2, 7), (3, 7), (4, 7), (5, 7), (6, 7), (7, 7), (8, 7), (2, 11), (3, 11), (4, 11), (5, 11), (6, 11), (7, 11), (8, 11), (2, 13), (3, 13), (4, 13), (5, 13), (6, 13), (7, 13), (8, 13)]\n"
     ]
    }
   ],
   "source": [
    "for d in [alpha_0_dict, alpha_plus_dict, alpha_minus_dict]:\n",
    "    print(list(d.keys()))"
   ]
  },
  {
   "cell_type": "markdown",
   "metadata": {},
   "source": [
    "**and the stored $\\beta$s are:**"
   ]
  },
  {
   "cell_type": "code",
   "execution_count": 18,
   "metadata": {},
   "outputs": [
    {
     "name": "stdout",
     "output_type": "stream",
     "text": [
      "[(0, p), (1, p), (2, p), (3, p), (4, p), (5, p), (6, p), (7, p), (8, p), (9, p), (0, 2), (2, 2), (1, 2), (3, 2), (4, 2), (5, 2), (6, 2), (7, 2), (0, 3), (2, 3), (1, 3), (3, 3), (4, 3), (5, 3), (6, 3), (7, 3), (0, 5), (2, 5), (1, 5), (3, 5), (4, 5), (5, 5), (6, 5), (7, 5), (0, 7), (2, 7), (1, 7), (3, 7), (4, 7), (5, 7), (6, 7), (7, 7), (0, 11), (2, 11), (1, 11), (3, 11), (4, 11), (5, 11), (6, 11), (7, 11), (0, 13), (2, 13), (1, 13), (3, 13), (4, 13), (5, 13), (6, 13), (7, 13)]\n",
      "[(0, p), (1, p), (2, p), (3, p), (4, p), (5, p), (6, p), (7, p), (8, p), (9, p), (10, p), (1, 2), (0, 2), (2, 2), (3, 2), (4, 2), (5, 2), (6, 2), (7, 2), (8, 2), (1, 3), (0, 3), (2, 3), (3, 3), (4, 3), (5, 3), (6, 3), (7, 3), (8, 3), (1, 5), (0, 5), (2, 5), (3, 5), (4, 5), (5, 5), (6, 5), (7, 5), (8, 5), (1, 7), (0, 7), (2, 7), (3, 7), (4, 7), (5, 7), (6, 7), (7, 7), (8, 7), (1, 11), (0, 11), (2, 11), (3, 11), (4, 11), (5, 11), (6, 11), (7, 11), (8, 11), (1, 13), (0, 13), (2, 13), (3, 13), (4, 13), (5, 13), (6, 13), (7, 13), (8, 13)]\n",
      "[(0, p), (1, p), (2, p), (3, p), (4, p), (5, p), (6, p), (7, p), (8, p), (9, p), (1, 2), (0, 2), (2, 2), (3, 2), (4, 2), (5, 2), (6, 2), (7, 2), (1, 3), (0, 3), (2, 3), (3, 3), (4, 3), (5, 3), (6, 3), (7, 3), (1, 5), (0, 5), (2, 5), (3, 5), (4, 5), (5, 5), (6, 5), (7, 5), (1, 7), (0, 7), (2, 7), (3, 7), (4, 7), (5, 7), (6, 7), (7, 7), (1, 11), (0, 11), (2, 11), (3, 11), (4, 11), (5, 11), (6, 11), (7, 11), (1, 13), (0, 13), (2, 13), (3, 13), (4, 13), (5, 13), (6, 13), (7, 13)]\n"
     ]
    }
   ],
   "source": [
    "for d in [beta_0_dict, beta_plus_dict, beta_minus_dict]:\n",
    "    print(list(d.keys()))"
   ]
  },
  {
   "cell_type": "markdown",
   "metadata": {},
   "source": [
    "**Check that the code for computing $|\\Gamma_i(p)^{\\pm}|$ agrees with the table in the paper**"
   ]
  },
  {
   "cell_type": "code",
   "execution_count": 19,
   "metadata": {},
   "outputs": [
    {
     "name": "stdout",
     "output_type": "stream",
     "text": [
      "p=3 OK\n",
      "p=5 OK\n",
      "p=7 OK\n",
      "p=11 OK\n",
      "p=13 OK\n",
      "p=17 OK\n",
      "p=19 OK\n",
      "p=23 OK\n",
      "p=29 OK\n",
      "p=31 OK\n"
     ]
    }
   ],
   "source": [
    "for p in primes(3,32):\n",
    "    one_row(p)"
   ]
  },
  {
   "cell_type": "markdown",
   "metadata": {},
   "source": [
    "**Genus 1 densities: generic formula:**"
   ]
  },
  {
   "cell_type": "code",
   "execution_count": 20,
   "metadata": {},
   "outputs": [
    {
     "name": "stdout",
     "output_type": "stream",
     "text": [
      "(p^9 + 2*p^8 + 3/2*p^7 + 3/2*p^6 + 7/4*p^5 + 15/8*p^4 + 13/8*p^3 + 7/4*p^2 + 13/8*p + 5/8)/(p^9 + 2*p^8 + 2*p^7 + 2*p^6 + 2*p^5 + 2*p^4 + 2*p^3 + 2*p^2 + 2*p + 1)\n",
      " =\n",
      " (p + 1)^-1 * (p^2 + p + 1)^-1 * (p^6 + p^3 + 1)^-1 * (p^9 + 2*p^8 + 3/2*p^7 + 3/2*p^6 + 7/4*p^5 + 15/8*p^4 + 13/8*p^3 + 7/4*p^2 + 13/8*p + 5/8)\n"
     ]
    }
   ],
   "source": [
    "rho1p = rho(1,pp)\n",
    "print(\"{}\\n =\\n {}\".format(rho1p,rho1p.factor()))"
   ]
  },
  {
   "cell_type": "markdown",
   "metadata": {},
   "source": [
    "**For the first few primes these are:**"
   ]
  },
  {
   "cell_type": "code",
   "execution_count": 21,
   "metadata": {},
   "outputs": [
    {
     "name": "stdout",
     "output_type": "stream",
     "text": [
      "p=2: 1625/1752 = 0.927511415525114\n",
      "p=3: 151285/157456 = 0.960808098770450\n",
      "p=5: 606715/616776 = 0.983687756981465\n",
      "p=7: 213318265/215219232 = 0.991167299584082\n",
      "p=11: 11275460941/11318148912 = 0.996228361074598\n",
      "p=13: 49352124025/49487663736 = 0.997261141448846\n"
     ]
    }
   ],
   "source": [
    "for p in primes(14):\n",
    "    print(\"p={}: {} = {}\".format(p,rho(1,p),rho(1,p)*1.0))"
   ]
  },
  {
   "cell_type": "markdown",
   "metadata": {},
   "source": [
    "**The generic formula is valid all the way down to $p=2$:**"
   ]
  },
  {
   "cell_type": "code",
   "execution_count": 22,
   "metadata": {},
   "outputs": [
    {
     "data": {
      "text/plain": [
       "1625/1752"
      ]
     },
     "execution_count": 22,
     "metadata": {},
     "output_type": "execute_result"
    }
   ],
   "source": [
    "rho(1,2)"
   ]
  },
  {
   "cell_type": "code",
   "execution_count": 23,
   "metadata": {},
   "outputs": [
    {
     "data": {
      "text/plain": [
       "1625/1752"
      ]
     },
     "execution_count": 23,
     "metadata": {},
     "output_type": "execute_result"
    }
   ],
   "source": [
    "subs(rho1p,2)"
   ]
  },
  {
   "cell_type": "code",
   "execution_count": 24,
   "metadata": {},
   "outputs": [
    {
     "data": {
      "text/plain": [
       "22750/23087"
      ]
     },
     "execution_count": 24,
     "metadata": {},
     "output_type": "execute_result"
    }
   ],
   "source": [
    "rho(1,2) / (23087/24528)"
   ]
  },
  {
   "cell_type": "code",
   "execution_count": 25,
   "metadata": {},
   "outputs": [
    {
     "data": {
      "text/plain": [
       "0.985403040672240"
      ]
     },
     "execution_count": 25,
     "metadata": {},
     "output_type": "execute_result"
    }
   ],
   "source": [
    "_ * 1.0"
   ]
  },
  {
   "cell_type": "code",
   "execution_count": 26,
   "metadata": {},
   "outputs": [
    {
     "data": {
      "text/plain": [
       "0.999567331042689"
      ]
     },
     "execution_count": 26,
     "metadata": {},
     "output_type": "execute_result"
    }
   ],
   "source": [
    "0.873742745/0.87412095"
   ]
  },
  {
   "cell_type": "code",
   "execution_count": 27,
   "metadata": {},
   "outputs": [
    {
     "data": {
      "text/plain": [
       "0.923299580056954"
      ]
     },
     "execution_count": 27,
     "metadata": {},
     "output_type": "execute_result"
    }
   ],
   "source": [
    "prod3 = prod([subs(rho1p,p) for p in primes(3,300000)], 1.0)\n",
    "prod3"
   ]
  },
  {
   "cell_type": "code",
   "execution_count": 33,
   "metadata": {},
   "outputs": [
    {
     "data": {
      "text/plain": [
       "0.923299580051825"
      ]
     },
     "execution_count": 33,
     "metadata": {},
     "output_type": "execute_result"
    }
   ],
   "source": [
    "prod3 * subs(rho1p,next_prime(300000))"
   ]
  },
  {
   "cell_type": "code",
   "execution_count": 28,
   "metadata": {},
   "outputs": [],
   "source": [
    "Rprime2 = 23087/24528"
   ]
  },
  {
   "cell_type": "code",
   "execution_count": 34,
   "metadata": {},
   "outputs": [
    {
     "data": {
      "text/plain": [
       "0.000415516699999952"
      ]
     },
     "execution_count": 34,
     "metadata": {},
     "output_type": "execute_result"
    }
   ],
   "source": [
    "RinfL = 0.8738849582 # depth 42\n",
    "RinfU = 0.8743004749 # depth 42\n",
    "RinfU-RinfL"
   ]
  },
  {
   "cell_type": "code",
   "execution_count": 30,
   "metadata": {},
   "outputs": [
    {
     "data": {
      "text/plain": [
       "0.759816495436494"
      ]
     },
     "execution_count": 30,
     "metadata": {},
     "output_type": "execute_result"
    }
   ],
   "source": [
    "RinfU*Rprime2*prod3"
   ]
  },
  {
   "cell_type": "code",
   "execution_count": 31,
   "metadata": {},
   "outputs": [
    {
     "data": {
      "text/plain": [
       "0.759455387954738"
      ]
     },
     "execution_count": 31,
     "metadata": {},
     "output_type": "execute_result"
    }
   ],
   "source": [
    "RinfL*Rprime2*prod3"
   ]
  },
  {
   "cell_type": "code",
   "execution_count": 32,
   "metadata": {},
   "outputs": [
    {
     "data": {
      "text/plain": [
       "True"
      ]
     },
     "execution_count": 32,
     "metadata": {},
     "output_type": "execute_result"
    }
   ],
   "source": [
    "all([subs(rho1p,p)==rho(1,p) for p in primes(14)])"
   ]
  },
  {
   "cell_type": "markdown",
   "metadata": {},
   "source": [
    "**Genus 2 densities: generic formula:**"
   ]
  },
  {
   "cell_type": "code",
   "execution_count": 57,
   "metadata": {},
   "outputs": [
    {
     "name": "stdout",
     "output_type": "stream",
     "text": [
      "(p^40 + 4*p^39 + 9*p^38 + 31/2*p^37 + 47/2*p^36 + 133/4*p^35 + 541/12*p^34 + 8263/144*p^33 + 3347/48*p^32 + 965/12*p^31 + 12883/144*p^30 + 4649/48*p^29 + 308/3*p^28 + 2563/24*p^27 + 15785/144*p^26 + 221/2*p^25 + 15965/144*p^24 + 4043/36*p^23 + 679/6*p^22 + 16337/144*p^21 + 1799/16*p^20 + 15715/144*p^19 + 2501/24*p^18 + 14095/144*p^17 + 3241/36*p^16 + 965/12*p^15 + 9739/144*p^14 + 2635/48*p^13 + 173/4*p^12 + 259/8*p^11 + 3329/144*p^10 + 713/48*p^9 + 101/12*p^8 + 521/144*p^7 + 9/16*p^6 - 1/4*p^5 - 5/8*p^4 - p^3 - p^2 - p - 1/2)/(p^40 + 4*p^39 + 9*p^38 + 16*p^37 + 25*p^36 + 36*p^35 + 49*p^34 + 63*p^33 + 77*p^32 + 90*p^31 + 101*p^30 + 110*p^29 + 117*p^28 + 122*p^27 + 125*p^26 + 126*p^25 + 126*p^24 + 126*p^23 + 126*p^22 + 126*p^21 + 125*p^20 + 122*p^19 + 117*p^18 + 110*p^17 + 101*p^16 + 90*p^15 + 77*p^14 + 63*p^13 + 49*p^12 + 36*p^11 + 25*p^10 + 16*p^9 + 9*p^8 + 4*p^7 + p^6)\n",
      " =\n",
      " p^-6 * (p + 1)^-2 * (p^2 + 1)^-1 * (p^2 + p + 1)^-1 * (p^4 - p^3 + p^2 - p + 1)^-1 * (p^4 + p^3 + p^2 + p + 1)^-1 * (p^6 + p^3 + 1)^-1 * (p^6 + p^5 + p^4 + p^3 + p^2 + p + 1)^-1 * (p^8 - p^6 + p^4 - p^2 + 1)^-1 * (p^40 + 4*p^39 + 9*p^38 + 31/2*p^37 + 47/2*p^36 + 133/4*p^35 + 541/12*p^34 + 8263/144*p^33 + 3347/48*p^32 + 965/12*p^31 + 12883/144*p^30 + 4649/48*p^29 + 308/3*p^28 + 2563/24*p^27 + 15785/144*p^26 + 221/2*p^25 + 15965/144*p^24 + 4043/36*p^23 + 679/6*p^22 + 16337/144*p^21 + 1799/16*p^20 + 15715/144*p^19 + 2501/24*p^18 + 14095/144*p^17 + 3241/36*p^16 + 965/12*p^15 + 9739/144*p^14 + 2635/48*p^13 + 173/4*p^12 + 259/8*p^11 + 3329/144*p^10 + 713/48*p^9 + 101/12*p^8 + 521/144*p^7 + 9/16*p^6 - 1/4*p^5 - 5/8*p^4 - p^3 - p^2 - p - 1/2)\n"
     ]
    }
   ],
   "source": [
    "rho2p = rho(2,pp)\n",
    "print(\"{}\\n =\\n {}\".format(rho2p,rho2p.factor()))"
   ]
  },
  {
   "cell_type": "markdown",
   "metadata": {},
   "source": [
    "**The first few values computed individually:**"
   ]
  },
  {
   "cell_type": "code",
   "execution_count": 58,
   "metadata": {},
   "outputs": [
    {
     "name": "stdout",
     "output_type": "stream",
     "text": [
      "p=2: 521968414037549/557460453580800 = 0.936332632538737\n",
      "p=3: 11908283690073923675989/12265526054691898243200 = 0.970874272899097\n",
      "p=5: 21168046192107392417824270157/21315998310595527294273375000 = 0.993059104418553\n",
      "p=7: 9225394906523129800081108647433021/9243647281033059837025942476710400 = 0.998025414216379\n",
      "p=11: 291968807821387146869087552918410773299321/292073047488128339469598819346962539694720 = 0.999643104121939\n",
      "p=13: 494439997194236648493062100677869119600283511/494544171104404502950788916623929834085754200 = 0.999789353679096\n",
      "p=17: 20976140641659136135769969361526314016243547763103/20978153262447196608755702969986375181556713933400 = 0.999904061107626\n"
     ]
    }
   ],
   "source": [
    "for p in primes(18):\n",
    "    print(\"p={}: {} = {}\".format(p,rho(2,p),rho(2,p)*1.0))"
   ]
  },
  {
   "cell_type": "markdown",
   "metadata": {},
   "source": [
    "**Of these, the generic formula is not valid for $p<13$:**"
   ]
  },
  {
   "cell_type": "code",
   "execution_count": 59,
   "metadata": {},
   "outputs": [
    {
     "name": "stdout",
     "output_type": "stream",
     "text": [
      "p=2: special case\n",
      "p=3: special case\n",
      "p=5: special case\n",
      "p=7: special case\n",
      "p=11: special case\n",
      "p=13: general formula valid\n",
      "p=17: general formula valid\n"
     ]
    }
   ],
   "source": [
    "for p in primes(18):\n",
    "    print(\"p={}: {}\".format(p,\"general formula valid\" if rho(2,p)==subs(rho2p,p) else \"special case\"))"
   ]
  },
  {
   "cell_type": "markdown",
   "metadata": {},
   "source": [
    "**Degrees of numerator and denominator for generic density formula $\\rho_g$ for $g\\le6$:**\n",
    "\n",
    "Note that these are the same, so it is more useful to look at the numerator of $1-\\rho_g$.  It is plausible to conjecture that $1-\\rho_g = O(p^{-(g+1)})$"
   ]
  },
  {
   "cell_type": "code",
   "execution_count": 60,
   "metadata": {},
   "outputs": [
    {
     "data": {
      "text/plain": [
       "[(1, 7, 9),\n",
       " (2, 37, 40),\n",
       " (3, 90, 94),\n",
       " (4, 164, 169),\n",
       " (5, 303, 309),\n",
       " (6, 455, 462)]"
      ]
     },
     "execution_count": 60,
     "metadata": {},
     "output_type": "execute_result"
    }
   ],
   "source": [
    "[(g,(1-rho(g)).numerator().degree(),rho(g).denominator().degree()) for g in [1,2,3,4,5,6]]"
   ]
  },
  {
   "cell_type": "code",
   "execution_count": 61,
   "metadata": {},
   "outputs": [
    {
     "data": {
      "text/plain": [
       "[(x^4, False),\n",
       " (x^4 + y^4, False),\n",
       " (x^4 + x*y^3, False),\n",
       " (x^4 + x*y^3 + y^4, False),\n",
       " (x^4 + x^2*y^2, False),\n",
       " (x^4 + x^2*y^2 + y^4, False),\n",
       " (x^4 + x^2*y^2 + x*y^3, False),\n",
       " (x^4 + x^2*y^2 + x*y^3 + y^4, False),\n",
       " (x^4 + x^3*y, False),\n",
       " (x^4 + x^3*y + y^4, False),\n",
       " (x^4 + x^3*y + x*y^3, False),\n",
       " (x^4 + x^3*y + x*y^3 + y^4, False),\n",
       " (x^4 + x^3*y + x^2*y^2, False),\n",
       " (x^4 + x^3*y + x^2*y^2 + y^4, False),\n",
       " (x^4 + x^3*y + x^2*y^2 + x*y^3, False),\n",
       " (x^4 + x^3*y + x^2*y^2 + x*y^3 + y^4, False),\n",
       " (x^3*y, False),\n",
       " (x^3*y + y^4, False),\n",
       " (x^3*y + x*y^3, False),\n",
       " (x^3*y + x*y^3 + y^4, False),\n",
       " (x^3*y + x^2*y^2, False),\n",
       " (x^3*y + x^2*y^2 + y^4, False),\n",
       " (x^3*y + x^2*y^2 + x*y^3, False),\n",
       " (x^3*y + x^2*y^2 + x*y^3 + y^4, False),\n",
       " (x^2*y^2, False),\n",
       " (x^2*y^2 + y^4, False),\n",
       " (x^2*y^2 + x*y^3, False),\n",
       " (x^2*y^2 + x*y^3 + y^4, False),\n",
       " (x*y^3, False),\n",
       " (x*y^3 + y^4, False),\n",
       " (y^4, False)]"
      ]
     },
     "execution_count": 61,
     "metadata": {},
     "output_type": "execute_result"
    }
   ],
   "source": [
    "[(f, no_smooth_points_homog(f)) for f in homog(GF(2),4)]"
   ]
  },
  {
   "cell_type": "code",
   "execution_count": 194,
   "metadata": {},
   "outputs": [
    {
     "data": {
      "text/plain": [
       "[(x^4 + x^2, x^2 * (x + 1)^2)]"
      ]
     },
     "execution_count": 194,
     "metadata": {},
     "output_type": "execute_result"
    }
   ],
   "source": [
    "[(f, f.factor()) for f in monics(GF(2),4) if no_smooth_points(f)]"
   ]
  },
  {
   "cell_type": "code",
   "execution_count": 62,
   "metadata": {},
   "outputs": [
    {
     "name": "stdout",
     "output_type": "stream",
     "text": [
      "p=2: rho(3,p)=357792959367031334203330778481486352159/382068150177100056504451182727947878400\n",
      "p=3: rho(3,p)=341947650353077734424671144337255654488619491925373857/352129923021605466157817219233951832056896259545331200\n",
      "p=5: rho(3,p)=86097630260784435447100598782562008926113896114013014530256922666498909279/86666803123976066755869260179323358963196506650206092672348022460937500000\n",
      "p=7: rho(3,p)=305506442225959695750731221696357847002652799121681101310512708797306578845450637/305990864147524980302408365049149826079047472404966616252928609903674358381056000\n",
      "p=11: rho(3,p)=180381571841180908637993538515031270909180246518441013584176907296658488528568533984567035173827692691/180400743281165829494219178794411859093803084918009201007525439211677254684714957353538885664070745600\n",
      "p=13: rho(3,p)=56436513939340864051763567947767739265217884838160058023121276435745647756489025435740351887740315083551/56438369264054703660878373727149871197122495421013146340682554818431287327790812757797626586573714226400\n",
      "p=17: rho(3,p)=19576400522426429088568588738058180397597986892680480588688953801551407094217802927516631345885114921887863106374891/19576524741352669758651197387522637257387105112162448594248715236280289913300659213066392916414975836300436672613600\n"
     ]
    }
   ],
   "source": [
    "for p in primes(18):\n",
    "    print(\"p={}: rho(3,p)={}\".format(p,rho(3,p)))"
   ]
  },
  {
   "cell_type": "code",
   "execution_count": 63,
   "metadata": {},
   "outputs": [
    {
     "name": "stdout",
     "output_type": "stream",
     "text": [
      "i=11, i=12, i=13, i=14, i=15, i=16, i=17, i=18, "
     ]
    }
   ],
   "source": [
    "for i in [11..18]:\n",
    "    print(\"i={}\".format(i), end=\", \")\n",
    "    make_alphas(i, verbose=False)"
   ]
  },
  {
   "cell_type": "code",
   "execution_count": 64,
   "metadata": {},
   "outputs": [
    {
     "data": {
      "text/plain": [
       "[48861, 56074, 59540]"
      ]
     },
     "execution_count": 64,
     "metadata": {},
     "output_type": "execute_result"
    }
   ],
   "source": [
    "i=18\n",
    "[len(str(t)) for t in [alpha_plus(i), alpha_minus(i), alpha_0(i)]]"
   ]
  },
  {
   "cell_type": "code",
   "execution_count": 65,
   "metadata": {},
   "outputs": [
    {
     "data": {
      "text/plain": [
       "[[947, 948], [958, 959], [980, 980]]"
      ]
     },
     "execution_count": 65,
     "metadata": {},
     "output_type": "execute_result"
    }
   ],
   "source": [
    "[[t.numerator().degree(),t.denominator().degree()] for t in [alpha_plus(i), alpha_minus(i), alpha_0(i)]]"
   ]
  },
  {
   "cell_type": "code",
   "execution_count": null,
   "metadata": {},
   "outputs": [],
   "source": []
  }
 ],
 "metadata": {
  "kernelspec": {
   "display_name": "SageMath 9.0",
   "language": "sage",
   "name": "sagemath"
  },
  "language_info": {
   "codemirror_mode": {
    "name": "ipython",
    "version": 3
   },
   "file_extension": ".py",
   "mimetype": "text/x-python",
   "name": "python",
   "nbconvert_exporter": "python",
   "pygments_lexer": "ipython3",
   "version": "3.7.3"
  }
 },
 "nbformat": 4,
 "nbformat_minor": 1
}
