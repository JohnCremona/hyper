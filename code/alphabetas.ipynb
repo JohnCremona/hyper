{
 "cells": [
  {
   "cell_type": "markdown",
   "metadata": {},
   "source": [
    "**Load all the code**"
   ]
  },
  {
   "cell_type": "code",
   "execution_count": 1,
   "metadata": {},
   "outputs": [
    {
     "name": "stdout",
     "output_type": "stream",
     "text": [
      "Initializing beta^0_i for i=0,1,2 to 0,1,1/2\n",
      "Initializing beta^+_i for i=0,1,2 to 1,1,1/p with p=p\n",
      "Initializing beta^-_i for i=0,1,2 to 0,1,1/(p+1) with p=p\n",
      "Initializing alpha^0_i for i=0,1,2 to 0,1,1/2\n",
      "Initializing alpha^+_i for i=0,1,2 to 1,1,1\n",
      "Initializing alpha^-_i for i=0,1,2 to 0,1,p/(p+1) with p=p\n"
     ]
    }
   ],
   "source": [
    "%runfile alphabeta.sage"
   ]
  },
  {
   "cell_type": "markdown",
   "metadata": {},
   "source": [
    "**Read in precomputed $\\Gamma^+$ and $\\Gamma^-$ sets**"
   ]
  },
  {
   "cell_type": "code",
   "execution_count": 2,
   "metadata": {},
   "outputs": [
    {
     "name": "stdout",
     "output_type": "stream",
     "text": [
      "Restoring Gamma_plus\n",
      "Restoring Gamma_minus\n"
     ]
    }
   ],
   "source": [
    "restore_Gammas()"
   ]
  },
  {
   "cell_type": "markdown",
   "metadata": {},
   "source": [
    "**$\\Gamma^+$ precomputed for these primes and degree ranges:**"
   ]
  },
  {
   "cell_type": "code",
   "execution_count": 3,
   "metadata": {},
   "outputs": [
    {
     "data": {
      "text/plain": [
       "[(2, {1, 2, 3, 4, 5, 6, 7, 8, 9, 10, 11, 12}),\n",
       " (3, {1, 2, 3, 4, 5, 6, 7, 8}),\n",
       " (5, {1, 2, 3, 4, 5, 6, 7, 8}),\n",
       " (7, {1, 2, 3, 4, 5, 6, 7, 8}),\n",
       " (11, {1, 2, 3, 4, 5, 6, 7, 8}),\n",
       " (13, {1, 2, 3, 4, 5, 6, 7, 8}),\n",
       " (17, {1, 2, 3, 4, 5, 6, 7, 8}),\n",
       " (19, {1, 2, 3, 4, 5, 6, 7, 8}),\n",
       " (23, {1, 2, 3, 4, 5, 6, 7, 8}),\n",
       " (29, {1, 2, 3, 4, 5, 6, 7, 8}),\n",
       " (31, {1, 2, 3, 4, 5, 6, 7, 8})]"
      ]
     },
     "execution_count": 3,
     "metadata": {},
     "output_type": "execute_result"
    }
   ],
   "source": [
    "[(p,Set([k[1] for k in Gamma_plus_dict.keys() if k[0]==p])) \n",
    "         for p in Set([k[0] for k in Gamma_plus_dict.keys()])]"
   ]
  },
  {
   "cell_type": "markdown",
   "metadata": {},
   "source": [
    "**$\\Gamma^-$ precomputed for these primes and degree ranges:**"
   ]
  },
  {
   "cell_type": "code",
   "execution_count": 4,
   "metadata": {},
   "outputs": [
    {
     "data": {
      "text/plain": [
       "[(2, {1, 2, 3, 4, 5, 6, 7, 8, 9, 10, 12}),\n",
       " (3, {8, 4, 6}),\n",
       " (5, {8, 4, 6}),\n",
       " (7, {8, 4, 6}),\n",
       " (11, {8, 4, 6}),\n",
       " (13, {8, 4, 6}),\n",
       " (17, {8, 4, 6}),\n",
       " (19, {8, 4, 6}),\n",
       " (23, {8, 4, 6}),\n",
       " (29, {8, 4, 6}),\n",
       " (31, {8, 4, 6})]"
      ]
     },
     "execution_count": 4,
     "metadata": {},
     "output_type": "execute_result"
    }
   ],
   "source": [
    "[(p,Set([k[1] for k in Gamma_minus_dict.keys() if k[0]==p])) \n",
    "         for p in Set([k[0] for k in Gamma_minus_dict.keys()])]"
   ]
  },
  {
   "cell_type": "markdown",
   "metadata": {},
   "source": [
    "**NB since we have no $\\Gamma_i^{\\pm}$ for $i>8$, we will not obtain correct density formulas for $g\\ge4$ except at primes for which the additional $\\Gamma_i^{\\pm}$ are known to be empty.**"
   ]
  },
  {
   "cell_type": "markdown",
   "metadata": {},
   "source": [
    "**For $i=0,1,2$ we initialize the values $\\alpha_i^0$, $\\alpha_i^+$ and $\\alpha_i^-$ and $\\beta_i^0$, $\\beta_i^+$ and $\\beta_i^-$ for general $p$:**"
   ]
  },
  {
   "cell_type": "code",
   "execution_count": 6,
   "metadata": {},
   "outputs": [
    {
     "name": "stdout",
     "output_type": "stream",
     "text": [
      "Initializing alpha^0_i for i=0,1,2 to 0,1,1/2\n",
      "Initializing alpha^+_i for i=0,1,2 to 1,1,1\n",
      "Initializing alpha^-_i for i=0,1,2 to 0,1,p/(p+1) with p=p\n",
      "Initializing beta^0_i for i=0,1,2 to 0,1,1/2\n",
      "Initializing beta^+_i for i=0,1,2 to 1,1,1/p with p=p\n",
      "Initializing beta^-_i for i=0,1,2 to 0,1,1/(p+1) with p=p\n"
     ]
    }
   ],
   "source": [
    "initialize_alpha_beta_dicts()"
   ]
  },
  {
   "cell_type": "markdown",
   "metadata": {},
   "source": [
    "**Now for $i\\le10$ we use the recursive formulas to compute all $\\beta_i^{\\epsilon}$**"
   ]
  },
  {
   "cell_type": "code",
   "execution_count": 7,
   "metadata": {},
   "outputs": [
    {
     "name": "stdout",
     "output_type": "stream",
     "text": [
      "i=3, i=4, i=5, i=6, i=7, i=8, i=9, i=10, "
     ]
    }
   ],
   "source": [
    "for i in range(3,11):\n",
    "    print(\"i={}\".format(i), end=\", \")\n",
    "    make_betas(i, verbose=False)"
   ]
  },
  {
   "cell_type": "markdown",
   "metadata": {},
   "source": [
    "**We now have the following $\\beta_i$:**"
   ]
  },
  {
   "cell_type": "code",
   "execution_count": 8,
   "metadata": {},
   "outputs": [
    {
     "name": "stdout",
     "output_type": "stream",
     "text": [
      "[(0, p), (1, p), (2, p), (3, p), (4, p), (5, p), (6, p), (7, p), (8, p), (9, p), (10, p)]\n",
      "[(0, p), (1, p), (2, p), (3, p), (4, p), (5, p), (6, p), (7, p), (8, p), (9, p), (10, p)]\n",
      "[(0, p), (1, p), (2, p), (3, p), (4, p), (5, p), (6, p), (7, p), (8, p), (9, p), (10, p)]\n"
     ]
    }
   ],
   "source": [
    "for d in [beta_0_dict, beta_plus_dict, beta_minus_dict]:\n",
    "    print(list(d.keys()))"
   ]
  },
  {
   "cell_type": "markdown",
   "metadata": {},
   "source": [
    "**and in the course of computing these we have also computed these $\\alphta$s:**"
   ]
  },
  {
   "cell_type": "code",
   "execution_count": 9,
   "metadata": {},
   "outputs": [
    {
     "name": "stdout",
     "output_type": "stream",
     "text": [
      "[(0, p), (1, p), (2, p), (3, p), (4, p), (5, p), (6, p), (7, p), (8, p), (9, p)]\n",
      "[(0, p), (1, p), (2, p), (3, p), (4, p), (5, p), (6, p), (7, p), (8, p), (9, p), (10, p)]\n",
      "[(0, p), (1, p), (2, p), (3, p), (4, p), (5, p), (6, p), (7, p), (8, p), (9, p)]\n"
     ]
    }
   ],
   "source": [
    "for d in [alpha_0_dict, alpha_plus_dict, alpha_minus_dict]:\n",
    "    print(list(d.keys()))"
   ]
  },
  {
   "cell_type": "markdown",
   "metadata": {},
   "source": [
    "**For some small $p$ we need to compute $\\alpha$s and $\\beta$s separately since the generic formulas are only valid for sufficiently large $p$:**"
   ]
  },
  {
   "cell_type": "code",
   "execution_count": 10,
   "metadata": {
    "scrolled": false
   },
   "outputs": [
    {
     "name": "stdout",
     "output_type": "stream",
     "text": [
      "p=2 done, p=3 done, p=5 done, p=7 done, p=11 done, p=13 done, "
     ]
    }
   ],
   "source": [
    "for p in [2,3,5,7,11,13]:\n",
    "    print(\"p={}\".format(p), end=\" \")\n",
    "    make_betas(8,p, verbose=False)\n",
    "    print(\"done\", end=\", \")"
   ]
  },
  {
   "cell_type": "markdown",
   "metadata": {},
   "source": [
    "**The stored $\\alpha$s are now**"
   ]
  },
  {
   "cell_type": "code",
   "execution_count": 11,
   "metadata": {
    "scrolled": true
   },
   "outputs": [
    {
     "name": "stdout",
     "output_type": "stream",
     "text": [
      "[(0, p), (1, p), (2, p), (3, p), (4, p), (5, p), (6, p), (7, p), (8, p), (9, p), (0, 2), (2, 2), (1, 2), (3, 2), (4, 2), (5, 2), (6, 2), (7, 2), (0, 3), (2, 3), (1, 3), (3, 3), (4, 3), (5, 3), (6, 3), (7, 3), (0, 5), (2, 5), (1, 5), (3, 5), (4, 5), (5, 5), (6, 5), (7, 5), (0, 7), (2, 7), (1, 7), (3, 7), (4, 7), (5, 7), (6, 7), (7, 7), (0, 11), (2, 11), (1, 11), (3, 11), (4, 11), (5, 11), (6, 11), (7, 11), (0, 13), (2, 13), (1, 13), (3, 13), (4, 13), (5, 13), (6, 13), (7, 13)]\n",
      "[(0, p), (1, p), (2, p), (3, p), (4, p), (5, p), (6, p), (7, p), (8, p), (9, p), (10, p), (1, 2), (0, 2), (2, 2), (3, 2), (4, 2), (5, 2), (6, 2), (7, 2), (8, 2), (1, 3), (0, 3), (2, 3), (3, 3), (4, 3), (5, 3), (6, 3), (7, 3), (8, 3), (1, 5), (0, 5), (2, 5), (3, 5), (4, 5), (5, 5), (6, 5), (7, 5), (8, 5), (1, 7), (0, 7), (2, 7), (3, 7), (4, 7), (5, 7), (6, 7), (7, 7), (8, 7), (1, 11), (0, 11), (2, 11), (3, 11), (4, 11), (5, 11), (6, 11), (7, 11), (8, 11), (1, 13), (0, 13), (2, 13), (3, 13), (4, 13), (5, 13), (6, 13), (7, 13), (8, 13)]\n",
      "[(0, p), (1, p), (2, p), (3, p), (4, p), (5, p), (6, p), (7, p), (8, p), (9, p), (1, 2), (0, 2), (2, 2), (3, 2), (4, 2), (5, 2), (6, 2), (7, 2), (1, 3), (0, 3), (2, 3), (3, 3), (4, 3), (5, 3), (6, 3), (7, 3), (1, 5), (0, 5), (2, 5), (3, 5), (4, 5), (5, 5), (6, 5), (7, 5), (1, 7), (0, 7), (2, 7), (3, 7), (4, 7), (5, 7), (6, 7), (7, 7), (1, 11), (0, 11), (2, 11), (3, 11), (4, 11), (5, 11), (6, 11), (7, 11), (1, 13), (0, 13), (2, 13), (3, 13), (4, 13), (5, 13), (6, 13), (7, 13)]\n"
     ]
    }
   ],
   "source": [
    "for d in [alpha_0_dict, alpha_plus_dict, alpha_minus_dict]:\n",
    "    print(list(d.keys()))"
   ]
  },
  {
   "cell_type": "markdown",
   "metadata": {},
   "source": [
    "**and the stored $\\beta$s are:**"
   ]
  },
  {
   "cell_type": "code",
   "execution_count": 12,
   "metadata": {},
   "outputs": [
    {
     "name": "stdout",
     "output_type": "stream",
     "text": [
      "[(0, p), (1, p), (2, p), (3, p), (4, p), (5, p), (6, p), (7, p), (8, p), (9, p), (10, p), (2, 2), (1, 2), (3, 2), (4, 2), (5, 2), (6, 2), (7, 2), (8, 2), (2, 3), (1, 3), (3, 3), (4, 3), (5, 3), (6, 3), (7, 3), (8, 3), (2, 5), (1, 5), (3, 5), (4, 5), (5, 5), (6, 5), (7, 5), (8, 5), (2, 7), (1, 7), (3, 7), (4, 7), (5, 7), (6, 7), (7, 7), (8, 7), (2, 11), (1, 11), (3, 11), (4, 11), (5, 11), (6, 11), (7, 11), (8, 11), (2, 13), (1, 13), (3, 13), (4, 13), (5, 13), (6, 13), (7, 13), (8, 13)]\n",
      "[(0, p), (1, p), (2, p), (3, p), (4, p), (5, p), (6, p), (7, p), (8, p), (9, p), (10, p), (2, 2), (3, 2), (4, 2), (5, 2), (6, 2), (7, 2), (8, 2), (2, 3), (3, 3), (4, 3), (5, 3), (6, 3), (7, 3), (8, 3), (2, 5), (3, 5), (4, 5), (5, 5), (6, 5), (7, 5), (8, 5), (2, 7), (3, 7), (4, 7), (5, 7), (6, 7), (7, 7), (8, 7), (2, 11), (3, 11), (4, 11), (5, 11), (6, 11), (7, 11), (8, 11), (2, 13), (3, 13), (4, 13), (5, 13), (6, 13), (7, 13), (8, 13)]\n",
      "[(0, p), (1, p), (2, p), (3, p), (4, p), (5, p), (6, p), (7, p), (8, p), (9, p), (10, p), (2, 2), (3, 2), (4, 2), (5, 2), (6, 2), (7, 2), (8, 2), (2, 3), (3, 3), (4, 3), (5, 3), (6, 3), (7, 3), (8, 3), (2, 5), (3, 5), (4, 5), (5, 5), (6, 5), (7, 5), (8, 5), (2, 7), (3, 7), (4, 7), (5, 7), (6, 7), (7, 7), (8, 7), (2, 11), (3, 11), (4, 11), (5, 11), (6, 11), (7, 11), (8, 11), (2, 13), (3, 13), (4, 13), (5, 13), (6, 13), (7, 13), (8, 13)]\n"
     ]
    }
   ],
   "source": [
    "for d in [beta_0_dict, beta_plus_dict, beta_minus_dict]:\n",
    "    print(list(d.keys()))"
   ]
  },
  {
   "cell_type": "markdown",
   "metadata": {},
   "source": [
    "**Check that the code for computing $|\\Gamma_i(p)^{\\pm}|$ agrees with the table in the paper**"
   ]
  },
  {
   "cell_type": "code",
   "execution_count": 13,
   "metadata": {},
   "outputs": [
    {
     "name": "stdout",
     "output_type": "stream",
     "text": [
      "p=3 OK\n",
      "p=5 OK\n",
      "p=7 OK\n",
      "p=11 OK\n",
      "p=13 OK\n",
      "p=17 OK\n",
      "p=19 OK\n",
      "p=23 OK\n",
      "p=29 OK\n",
      "p=31 OK\n"
     ]
    }
   ],
   "source": [
    "for p in primes(3,32):\n",
    "    one_row(p)"
   ]
  },
  {
   "cell_type": "markdown",
   "metadata": {},
   "source": [
    "**Genus 1 densities: generic formula:**"
   ]
  },
  {
   "cell_type": "code",
   "execution_count": 14,
   "metadata": {},
   "outputs": [
    {
     "name": "stdout",
     "output_type": "stream",
     "text": [
      "(p^9 + 2*p^8 + 3/2*p^7 + 3/2*p^6 + 7/4*p^5 + 15/8*p^4 + 13/8*p^3 + 7/4*p^2 + 13/8*p + 5/8)/(p^9 + 2*p^8 + 2*p^7 + 2*p^6 + 2*p^5 + 2*p^4 + 2*p^3 + 2*p^2 + 2*p + 1)\n",
      " =\n",
      " (p + 1)^-1 * (p^2 + p + 1)^-1 * (p^6 + p^3 + 1)^-1 * (p^9 + 2*p^8 + 3/2*p^7 + 3/2*p^6 + 7/4*p^5 + 15/8*p^4 + 13/8*p^3 + 7/4*p^2 + 13/8*p + 5/8)\n"
     ]
    }
   ],
   "source": [
    "rho1p = rho(1,pp)\n",
    "print(\"{}\\n =\\n {}\".format(rho1p,rho1p.factor()))"
   ]
  },
  {
   "cell_type": "code",
   "execution_count": 15,
   "metadata": {
    "scrolled": true
   },
   "outputs": [
    {
     "data": {
      "text/plain": [
       "(4*p^7 + 4*p^6 + 2*p^5 + p^4 + 3*p^3 + 2*p^2 + 3*p + 3)/(p^9 + 2*p^8 + 2*p^7 + 2*p^6 + 2*p^5 + 2*p^4 + 2*p^3 + 2*p^2 + 2*p + 1)"
      ]
     },
     "execution_count": 15,
     "metadata": {},
     "output_type": "execute_result"
    }
   ],
   "source": [
    "8*(1-rho1p)"
   ]
  },
  {
   "cell_type": "markdown",
   "metadata": {},
   "source": [
    "**For the first few primes these are:**"
   ]
  },
  {
   "cell_type": "code",
   "execution_count": 16,
   "metadata": {},
   "outputs": [
    {
     "name": "stdout",
     "output_type": "stream",
     "text": [
      "p=2: 1625/1752 = 0.927511415525114\n",
      "p=3: 151285/157456 = 0.960808098770450\n",
      "p=5: 606715/616776 = 0.983687756981465\n",
      "p=7: 213318265/215219232 = 0.991167299584082\n",
      "p=11: 11275460941/11318148912 = 0.996228361074598\n",
      "p=13: 49352124025/49487663736 = 0.997261141448846\n",
      "p=17: 28040790655/28086602328 = 0.998368913674036\n",
      "p=19: 1432283158501/1434167545680 = 0.998686075985560\n",
      "p=23: 1121780418895/1122796464288 = 0.999095076066485\n",
      "p=29: 62137772452201/62173482753720 = 0.999425634532001\n",
      "p=31: 112752225180001/112809054552192 = 0.999496233946676\n",
      "Computing Gamma_plus(3,Finite Field of size 37)\n",
      "Computing Gamma_plus(4,Finite Field of size 37)\n",
      "Computing Gamma_minus(4,Finite Field of size 37)\n",
      "p=37: 78361754319415/78389620828776 = 0.999644512767553\n",
      "Computing Gamma_plus(3,Finite Field of size 41)\n",
      "Computing Gamma_plus(4,Finite Field of size 41)\n",
      "Computing Gamma_minus(4,Finite Field of size 41)\n",
      "p=41: 1374604998324181/1375004124454632 = 0.999709727321284\n",
      "Computing Gamma_plus(3,Finite Field of size 43)\n",
      "Computing Gamma_plus(4,Finite Field of size 43)\n",
      "Computing Gamma_minus(4,Finite Field of size 43)\n",
      "p=43: 110818207633855/110847493359504 = 0.999735801642767\n",
      "Computing Gamma_plus(3,Finite Field of size 47)\n",
      "Computing Gamma_plus(4,Finite Field of size 47)\n",
      "Computing Gamma_minus(4,Finite Field of size 47)\n",
      "p=47: 4670118242423185/4671153279037632 = 0.999778419471035\n"
     ]
    }
   ],
   "source": [
    "for p in primes(50):\n",
    "    print(\"p={}: {} = {}\".format(p,rho(1,p),rho(1,p)*1.0))"
   ]
  },
  {
   "cell_type": "markdown",
   "metadata": {},
   "source": [
    "**The generic formula is valid all the way down to $p=2$:**"
   ]
  },
  {
   "cell_type": "code",
   "execution_count": 17,
   "metadata": {},
   "outputs": [
    {
     "data": {
      "text/plain": [
       "True"
      ]
     },
     "execution_count": 17,
     "metadata": {},
     "output_type": "execute_result"
    }
   ],
   "source": [
    "all([subs(rho1p,p)==rho(1,p) for p in primes(14)])"
   ]
  },
  {
   "cell_type": "markdown",
   "metadata": {},
   "source": [
    "# Computing the approximate global density (for degree 4)"
   ]
  },
  {
   "cell_type": "code",
   "execution_count": 18,
   "metadata": {},
   "outputs": [
    {
     "data": {
      "text/plain": [
       "Real Field with 100 bits of precision"
      ]
     },
     "execution_count": 18,
     "metadata": {},
     "output_type": "execute_result"
    }
   ],
   "source": [
    "RR = RealField(100)\n",
    "RR"
   ]
  },
  {
   "cell_type": "markdown",
   "metadata": {},
   "source": [
    "**The density for $p=2$**"
   ]
  },
  {
   "cell_type": "code",
   "execution_count": 19,
   "metadata": {},
   "outputs": [],
   "source": [
    "Rprime2 = 23087/24528"
   ]
  },
  {
   "cell_type": "markdown",
   "metadata": {},
   "source": [
    "**Lower and upper bounds for the real density at different depths (current max 44)**"
   ]
  },
  {
   "cell_type": "code",
   "execution_count": 20,
   "metadata": {},
   "outputs": [
    {
     "data": {
      "text/plain": [
       "([0.873963112438021, 0.874073519639555], 0.000110407201533991)"
      ]
     },
     "execution_count": 20,
     "metadata": {},
     "output_type": "execute_result"
    }
   ],
   "source": [
    "Rinf_MC = 0.87411\n",
    "Rinf_42 = [0.8738849582, 0.8743004749] # depth 42\n",
    "Rinf_43 = [0.8739015595, 0.8742249837] # depth 43\n",
    "Rinf_44 = [1.0*61496279586877/70368744177664, 1.0*76895089806331/87960930222080]\n",
    "Rinf_45 = [1.0*61497423789597/70368744177664, 1.0*61513274131941/70368744177664]\n",
    "Rinf_46 = [1.0*61499079891225/70368744177664, 1.0*61510977793259/70368744177664]\n",
    "Rinf_47 = [1.0*4919953536624349/5629499534213120, 1.0*4920672871111063/5629499534213120]\n",
    "Rinf_48 = [1.0*1967989973755715/2251799813685248, 1.0*4920596471678897/5629499534213120]\n",
    "Rinf = Rinf_48\n",
    "Rinf_range = Rinf[1]-Rinf[0]\n",
    "Rinf, Rinf_range"
   ]
  },
  {
   "cell_type": "markdown",
   "metadata": {},
   "source": [
    "**Use PARI/GP to compute an accurate approximation to the Euler product over all $p\\ge3$:**"
   ]
  },
  {
   "cell_type": "code",
   "execution_count": 21,
   "metadata": {
    "scrolled": true
   },
   "outputs": [
    {
     "data": {
      "text/plain": [
       "0.9232994664019404917582467183468338585772742277593219171212682564400725016679009826268346325774967103000000000000000"
      ]
     },
     "execution_count": 21,
     "metadata": {},
     "output_type": "execute_result"
    }
   ],
   "source": [
    "gp.default('realprecision',100);\n",
    "p3 = gp.prodeulerrat(rho1p,1,3).sage()\n",
    "p3"
   ]
  },
  {
   "cell_type": "markdown",
   "metadata": {},
   "source": [
    "**Hence the lower and upper bounds for the global density $\\rho$ are:**"
   ]
  },
  {
   "cell_type": "code",
   "execution_count": 22,
   "metadata": {},
   "outputs": [
    {
     "data": {
      "text/plain": [
       "([0.759523214907216, 0.759619164989622], 0.759650868479451)"
      ]
     },
     "execution_count": 22,
     "metadata": {},
     "output_type": "execute_result"
    }
   ],
   "source": [
    "[R*Rprime2*p3 for R in Rinf], Rinf_MC*Rprime2*p3"
   ]
  },
  {
   "cell_type": "markdown",
   "metadata": {},
   "source": [
    "**with difference**"
   ]
  },
  {
   "cell_type": "code",
   "execution_count": 23,
   "metadata": {
    "scrolled": true
   },
   "outputs": [
    {
     "ename": "TypeError",
     "evalue": "unsupported operand type(s) for -: 'sage.rings.real_mpfr.RealNumber' and 'list'",
     "output_type": "error",
     "traceback": [
      "\u001b[0;31m---------------------------------------------------------------------------\u001b[0m",
      "\u001b[0;31mTypeError\u001b[0m                                 Traceback (most recent call last)",
      "\u001b[0;32m/tmp/ipykernel_1661795/1639150075.py\u001b[0m in \u001b[0;36m<module>\u001b[0;34m\u001b[0m\n\u001b[0;32m----> 1\u001b[0;31m \u001b[0m_\u001b[0m\u001b[0;34m[\u001b[0m\u001b[0mInteger\u001b[0m\u001b[0;34m(\u001b[0m\u001b[0;36m1\u001b[0m\u001b[0;34m)\u001b[0m\u001b[0;34m]\u001b[0m\u001b[0;34m-\u001b[0m\u001b[0m_\u001b[0m\u001b[0;34m[\u001b[0m\u001b[0mInteger\u001b[0m\u001b[0;34m(\u001b[0m\u001b[0;36m0\u001b[0m\u001b[0;34m)\u001b[0m\u001b[0;34m]\u001b[0m\u001b[0;34m\u001b[0m\u001b[0;34m\u001b[0m\u001b[0m\n\u001b[0m",
      "\u001b[0;31mTypeError\u001b[0m: unsupported operand type(s) for -: 'sage.rings.real_mpfr.RealNumber' and 'list'"
     ]
    }
   ],
   "source": [
    "_[1]-_[0]"
   ]
  },
  {
   "cell_type": "code",
   "execution_count": null,
   "metadata": {},
   "outputs": [],
   "source": []
  },
  {
   "cell_type": "markdown",
   "metadata": {},
   "source": [
    "For generalized quartics we change the factors at infinity and 2:"
   ]
  },
  {
   "cell_type": "code",
   "execution_count": 24,
   "metadata": {},
   "outputs": [],
   "source": [
    "Rinf_gen = 0.873742745"
   ]
  },
  {
   "cell_type": "code",
   "execution_count": 25,
   "metadata": {},
   "outputs": [
    {
     "data": {
      "text/plain": [
       "0.8563707950360464035999719847680393950845151941260833991564274638784919036588693474706656837548128735000000000000000"
      ]
     },
     "execution_count": 25,
     "metadata": {},
     "output_type": "execute_result"
    }
   ],
   "source": [
    "p_all = gp.prodeulerrat(rho1p,1,2).sage()\n",
    "p_all"
   ]
  },
  {
   "cell_type": "markdown",
   "metadata": {},
   "source": [
    "**Hence the approximate global density $\\rho'$ are:**"
   ]
  },
  {
   "cell_type": "code",
   "execution_count": 26,
   "metadata": {},
   "outputs": [
    {
     "data": {
      "text/plain": [
       "0.748247769192628"
      ]
     },
     "execution_count": 26,
     "metadata": {},
     "output_type": "execute_result"
    }
   ],
   "source": [
    "Rinf_gen*p_all"
   ]
  },
  {
   "cell_type": "code",
   "execution_count": 27,
   "metadata": {},
   "outputs": [],
   "source": [
    "Rinf_mc = 0.874112095"
   ]
  },
  {
   "cell_type": "code",
   "execution_count": 28,
   "metadata": {},
   "outputs": [
    {
     "data": {
      "text/plain": [
       "0.759652689152558"
      ]
     },
     "execution_count": 28,
     "metadata": {},
     "output_type": "execute_result"
    }
   ],
   "source": [
    "R_mc = Rinf_mc*Rprime2*p3\n",
    "R_mc"
   ]
  },
  {
   "cell_type": "code",
   "execution_count": 29,
   "metadata": {},
   "outputs": [],
   "source": [
    "lb = 4919953536624349/5629499534213120"
   ]
  },
  {
   "cell_type": "code",
   "execution_count": 30,
   "metadata": {},
   "outputs": [
    {
     "data": {
      "text/plain": [
       "2^-50 * 5^-1 * 43 * 347 * 859 * 383857391"
      ]
     },
     "execution_count": 30,
     "metadata": {},
     "output_type": "execute_result"
    }
   ],
   "source": [
    "lb.factor()"
   ]
  },
  {
   "cell_type": "code",
   "execution_count": 31,
   "metadata": {},
   "outputs": [
    {
     "data": {
      "text/plain": [
       "(4919953536624349, 87395931143141130092999446787871420383453369140625)"
      ]
     },
     "execution_count": 31,
     "metadata": {},
     "output_type": "execute_result"
    }
   ],
   "source": [
    "5*2^50*lb, 10^50 * lb"
   ]
  },
  {
   "cell_type": "code",
   "execution_count": 32,
   "metadata": {},
   "outputs": [],
   "source": [
    "ub = 4920672871111063/5629499534213120"
   ]
  },
  {
   "cell_type": "code",
   "execution_count": 33,
   "metadata": {},
   "outputs": [
    {
     "data": {
      "text/plain": [
       "2^-50 * 5^-1 * 11 * 89 * 5026223565997"
      ]
     },
     "execution_count": 33,
     "metadata": {},
     "output_type": "execute_result"
    }
   ],
   "source": [
    "ub.factor()"
   ]
  },
  {
   "cell_type": "code",
   "execution_count": 34,
   "metadata": {},
   "outputs": [
    {
     "data": {
      "text/plain": [
       "(4920672871111063, 87408709090494038917995567317120730876922607421875)"
      ]
     },
     "execution_count": 34,
     "metadata": {},
     "output_type": "execute_result"
    }
   ],
   "source": [
    "5*2^50*ub, 10^50*ub"
   ]
  },
  {
   "cell_type": "markdown",
   "metadata": {},
   "source": [
    "# Genus 2 densities: generic formula #"
   ]
  },
  {
   "cell_type": "code",
   "execution_count": 35,
   "metadata": {},
   "outputs": [
    {
     "name": "stdout",
     "output_type": "stream",
     "text": [
      "(p^40 + 4*p^39 + 9*p^38 + 31/2*p^37 + 47/2*p^36 + 133/4*p^35 + 541/12*p^34 + 8263/144*p^33 + 3347/48*p^32 + 965/12*p^31 + 12883/144*p^30 + 4649/48*p^29 + 308/3*p^28 + 2563/24*p^27 + 15785/144*p^26 + 221/2*p^25 + 15965/144*p^24 + 4043/36*p^23 + 679/6*p^22 + 16337/144*p^21 + 1799/16*p^20 + 15715/144*p^19 + 2501/24*p^18 + 14095/144*p^17 + 3241/36*p^16 + 965/12*p^15 + 9739/144*p^14 + 2635/48*p^13 + 173/4*p^12 + 259/8*p^11 + 3329/144*p^10 + 713/48*p^9 + 101/12*p^8 + 521/144*p^7 + 9/16*p^6 - 1/4*p^5 - 5/8*p^4 - p^3 - p^2 - p - 1/2)/(p^40 + 4*p^39 + 9*p^38 + 16*p^37 + 25*p^36 + 36*p^35 + 49*p^34 + 63*p^33 + 77*p^32 + 90*p^31 + 101*p^30 + 110*p^29 + 117*p^28 + 122*p^27 + 125*p^26 + 126*p^25 + 126*p^24 + 126*p^23 + 126*p^22 + 126*p^21 + 125*p^20 + 122*p^19 + 117*p^18 + 110*p^17 + 101*p^16 + 90*p^15 + 77*p^14 + 63*p^13 + 49*p^12 + 36*p^11 + 25*p^10 + 16*p^9 + 9*p^8 + 4*p^7 + p^6)\n",
      " =\n",
      " p^-6 * (p + 1)^-2 * (p^2 + 1)^-1 * (p^2 + p + 1)^-1 * (p^4 - p^3 + p^2 - p + 1)^-1 * (p^4 + p^3 + p^2 + p + 1)^-1 * (p^6 + p^3 + 1)^-1 * (p^6 + p^5 + p^4 + p^3 + p^2 + p + 1)^-1 * (p^8 - p^6 + p^4 - p^2 + 1)^-1 * (p^40 + 4*p^39 + 9*p^38 + 31/2*p^37 + 47/2*p^36 + 133/4*p^35 + 541/12*p^34 + 8263/144*p^33 + 3347/48*p^32 + 965/12*p^31 + 12883/144*p^30 + 4649/48*p^29 + 308/3*p^28 + 2563/24*p^27 + 15785/144*p^26 + 221/2*p^25 + 15965/144*p^24 + 4043/36*p^23 + 679/6*p^22 + 16337/144*p^21 + 1799/16*p^20 + 15715/144*p^19 + 2501/24*p^18 + 14095/144*p^17 + 3241/36*p^16 + 965/12*p^15 + 9739/144*p^14 + 2635/48*p^13 + 173/4*p^12 + 259/8*p^11 + 3329/144*p^10 + 713/48*p^9 + 101/12*p^8 + 521/144*p^7 + 9/16*p^6 - 1/4*p^5 - 5/8*p^4 - p^3 - p^2 - p - 1/2)\n"
     ]
    }
   ],
   "source": [
    "rho2p = rho(2,pp)\n",
    "print(\"{}\\n =\\n {}\".format(rho2p,rho2p.factor()))"
   ]
  },
  {
   "cell_type": "markdown",
   "metadata": {},
   "source": [
    "**The first few values computed individually:**"
   ]
  },
  {
   "cell_type": "code",
   "execution_count": 36,
   "metadata": {},
   "outputs": [
    {
     "name": "stdout",
     "output_type": "stream",
     "text": [
      "p=2: 521968414037549/557460453580800 = 0.936332632538737\n",
      "p=3: 11908283690073923675989/12265526054691898243200 = 0.970874272899097\n",
      "p=5: 21168046192107392417824270157/21315998310595527294273375000 = 0.993059104418553\n",
      "p=7: 9225394906523129800081108647433021/9243647281033059837025942476710400 = 0.998025414216379\n",
      "p=11: 291968807821387146869087552918410773299321/292073047488128339469598819346962539694720 = 0.999643104121939\n",
      "p=13: 494439997194236648493062100677869119600283511/494544171104404502950788916623929834085754200 = 0.999789353679096\n",
      "p=17: 20976140641659136135769969361526314016243547763103/20978153262447196608755702969986375181556713933400 = 0.999904061107626\n"
     ]
    }
   ],
   "source": [
    "for p in primes(18):\n",
    "    print(\"p={}: {} = {}\".format(p,rho(2,p),rho(2,p)*1.0))"
   ]
  },
  {
   "cell_type": "markdown",
   "metadata": {},
   "source": [
    "**Of these, the generic formula is not valid for $p<13$:**"
   ]
  },
  {
   "cell_type": "code",
   "execution_count": 37,
   "metadata": {},
   "outputs": [
    {
     "name": "stdout",
     "output_type": "stream",
     "text": [
      "p=2: special case\n",
      "p=3: special case\n",
      "p=5: special case\n",
      "p=7: special case\n",
      "p=11: special case\n",
      "p=13: general formula valid\n",
      "p=17: general formula valid\n"
     ]
    }
   ],
   "source": [
    "for p in primes(18):\n",
    "    print(\"p={}: {}\".format(p,\"general formula valid\" if rho(2,p)==subs(rho2p,p) else \"special case\"))"
   ]
  },
  {
   "cell_type": "markdown",
   "metadata": {},
   "source": [
    "**Genus 3 densities: generic formula:**"
   ]
  },
  {
   "cell_type": "code",
   "execution_count": 38,
   "metadata": {},
   "outputs": [
    {
     "name": "stdout",
     "output_type": "stream",
     "text": [
      "(p^94 + 5*p^93 + 14*p^92 + 30*p^91 + 109/2*p^90 + 89*p^89 + 541/4*p^88 + 586/3*p^87 + 13003/48*p^86 + 2091161/5760*p^85 + 677891/1440*p^84 + 3425077/5760*p^83 + 704003/960*p^82 + 113753/128*p^81 + 3050893/2880*p^80 + 89737/72*p^79 + 2087459/1440*p^78 + 60077/36*p^77 + 3654619/1920*p^76 + 6194257/2880*p^75 + 4625087/1920*p^74 + 192475/72*p^73 + 16946713/5760*p^72 + 2310799/720*p^71 + 555703/160*p^70 + 1790701/480*p^69 + 1909949/480*p^68 + 539451/128*p^67 + 1703729/384*p^66 + 4461173/960*p^65 + 27880337/5760*p^64 + 2409049/480*p^63 + 9945929/1920*p^62 + 30673859/5760*p^61 + 1744943/320*p^60 + 83431/15*p^59 + 10849877/1920*p^58 + 32936647/5760*p^57 + 16587923/2880*p^56 + 33309167/5760*p^55 + 8333669/1440*p^54 + 33234037/5760*p^53 + 6599143/1152*p^52 + 1632245/288*p^51 + 67027/12*p^50 + 7898771/1440*p^49 + 3434559/640*p^48 + 3348077/640*p^47 + 7308973/1440*p^46 + 28212971/5760*p^45 + 903497/192*p^44 + 25899791/5760*p^43 + 24608591/5760*p^42 + 322671/80*p^41 + 2178259/576*p^40 + 6760121/1920*p^39 + 6241657/1920*p^38 + 2145209/720*p^37 + 5207731/1920*p^36 + 2350129/960*p^35 + 1399587/640*p^34 + 3719741/1920*p^33 + 272157/160*p^32 + 709769/480*p^31 + 203177/160*p^30 + 774113/720*p^29 + 5163601/5760*p^28 + 132091/180*p^27 + 1130791/1920*p^26 + 88735/192*p^25 + 2025169/5760*p^24 + 185183/720*p^23 + 258631/1440*p^22 + 42679/360*p^21 + 13931/192*p^20 + 74311/1920*p^19 + 45241/2880*p^18 + 4861/5760*p^17 - 12509/1440*p^16 - 5345/384*p^15 - 791/48*p^14 - 291/16*p^13 - 113/6*p^12 - 37/2*p^11 - 35/2*p^10 - 29/2*p^9 - 139/12*p^8 - 39/4*p^7 - 23/3*p^6 - 16/3*p^5 - 11/4*p^4 - 2/3*p^3 + p^2 + 2*p + 1)/(p^94 + 5*p^93 + 14*p^92 + 30*p^91 + 55*p^90 + 91*p^89 + 140*p^88 + 204*p^87 + 285*p^86 + 384*p^85 + 501*p^84 + 636*p^83 + 789*p^82 + 960*p^81 + 1149*p^80 + 1356*p^79 + 1581*p^78 + 1824*p^77 + 2084*p^76 + 2359*p^75 + 2646*p^74 + 2941*p^73 + 3240*p^72 + 3539*p^71 + 3834*p^70 + 4121*p^69 + 4396*p^68 + 4656*p^67 + 4899*p^66 + 5124*p^65 + 5331*p^64 + 5520*p^63 + 5691*p^62 + 5844*p^61 + 5979*p^60 + 6095*p^59 + 6190*p^58 + 6262*p^57 + 6310*p^56 + 6334*p^55 + 6334*p^54 + 6310*p^53 + 6262*p^52 + 6190*p^51 + 6095*p^50 + 5979*p^49 + 5844*p^48 + 5691*p^47 + 5520*p^46 + 5331*p^45 + 5124*p^44 + 4899*p^43 + 4656*p^42 + 4396*p^41 + 4121*p^40 + 3834*p^39 + 3539*p^38 + 3240*p^37 + 2941*p^36 + 2646*p^35 + 2359*p^34 + 2084*p^33 + 1824*p^32 + 1581*p^31 + 1356*p^30 + 1149*p^29 + 960*p^28 + 789*p^27 + 636*p^26 + 501*p^25 + 384*p^24 + 285*p^23 + 204*p^22 + 140*p^21 + 91*p^20 + 55*p^19 + 30*p^18 + 14*p^17 + 5*p^16 + p^15)\n",
      " =\n",
      " p^-15 * (p + 1)^-3 * (p^2 + p + 1)^-2 * (p^2 - p + 1)^-1 * (p^2 + 1)^-1 * (p^4 + p^3 + p^2 + p + 1)^-2 * (p^4 - p^3 + p^2 - p + 1)^-1 * (p^6 + p^3 + 1)^-2 * (p^6 - p^3 + 1)^-1 * (p^6 + p^5 + p^4 + p^3 + p^2 + p + 1)^-1 * (p^8 - p^6 + p^4 - p^2 + 1)^-1 * (p^24 - p^23 + p^19 - p^18 + p^17 - p^16 + p^14 - p^13 + p^12 - p^11 + p^10 - p^8 + p^7 - p^6 + p^5 - p + 1)^-1 * (p^94 + 5*p^93 + 14*p^92 + 30*p^91 + 109/2*p^90 + 89*p^89 + 541/4*p^88 + 586/3*p^87 + 13003/48*p^86 + 2091161/5760*p^85 + 677891/1440*p^84 + 3425077/5760*p^83 + 704003/960*p^82 + 113753/128*p^81 + 3050893/2880*p^80 + 89737/72*p^79 + 2087459/1440*p^78 + 60077/36*p^77 + 3654619/1920*p^76 + 6194257/2880*p^75 + 4625087/1920*p^74 + 192475/72*p^73 + 16946713/5760*p^72 + 2310799/720*p^71 + 555703/160*p^70 + 1790701/480*p^69 + 1909949/480*p^68 + 539451/128*p^67 + 1703729/384*p^66 + 4461173/960*p^65 + 27880337/5760*p^64 + 2409049/480*p^63 + 9945929/1920*p^62 + 30673859/5760*p^61 + 1744943/320*p^60 + 83431/15*p^59 + 10849877/1920*p^58 + 32936647/5760*p^57 + 16587923/2880*p^56 + 33309167/5760*p^55 + 8333669/1440*p^54 + 33234037/5760*p^53 + 6599143/1152*p^52 + 1632245/288*p^51 + 67027/12*p^50 + 7898771/1440*p^49 + 3434559/640*p^48 + 3348077/640*p^47 + 7308973/1440*p^46 + 28212971/5760*p^45 + 903497/192*p^44 + 25899791/5760*p^43 + 24608591/5760*p^42 + 322671/80*p^41 + 2178259/576*p^40 + 6760121/1920*p^39 + 6241657/1920*p^38 + 2145209/720*p^37 + 5207731/1920*p^36 + 2350129/960*p^35 + 1399587/640*p^34 + 3719741/1920*p^33 + 272157/160*p^32 + 709769/480*p^31 + 203177/160*p^30 + 774113/720*p^29 + 5163601/5760*p^28 + 132091/180*p^27 + 1130791/1920*p^26 + 88735/192*p^25 + 2025169/5760*p^24 + 185183/720*p^23 + 258631/1440*p^22 + 42679/360*p^21 + 13931/192*p^20 + 74311/1920*p^19 + 45241/2880*p^18 + 4861/5760*p^17 - 12509/1440*p^16 - 5345/384*p^15 - 791/48*p^14 - 291/16*p^13 - 113/6*p^12 - 37/2*p^11 - 35/2*p^10 - 29/2*p^9 - 139/12*p^8 - 39/4*p^7 - 23/3*p^6 - 16/3*p^5 - 11/4*p^4 - 2/3*p^3 + p^2 + 2*p + 1)\n"
     ]
    }
   ],
   "source": [
    "rho3p = rho(3,pp)\n",
    "print(\"{}\\n =\\n {}\".format(rho3p,rho3p.factor()))"
   ]
  },
  {
   "cell_type": "code",
   "execution_count": 77,
   "metadata": {},
   "outputs": [],
   "source": [
    "Zx = PolynomialRing(ZZ,'p')\n",
    "den3 = Zx(5760*(1-rho3p).denominator())\n",
    "num3 = Zx(5760*(1-rho3p).numerator())\n",
    "#(1-rho3p).numerator()"
   ]
  },
  {
   "cell_type": "code",
   "execution_count": 78,
   "metadata": {},
   "outputs": [
    {
     "data": {
      "text/plain": [
       "5 * 3^2 * 2^7 * (p + 1)^3 * p^15 * (p^2 - p + 1) * (p^2 + 1) * (p^2 + p + 1)^2 * (p^4 - p^3 + p^2 - p + 1) * (p^4 + p^3 + p^2 + p + 1)^2 * (p^6 - p^3 + 1) * (p^6 + p^5 + p^4 + p^3 + p^2 + p + 1) * (p^6 + p^3 + 1)^2 * (p^8 - p^6 + p^4 - p^2 + 1) * (p^24 - p^23 + p^19 - p^18 + p^17 - p^16 + p^14 - p^13 + p^12 - p^11 + p^10 - p^8 + p^7 - p^6 + p^5 - p + 1)"
      ]
     },
     "execution_count": 78,
     "metadata": {},
     "output_type": "execute_result"
    }
   ],
   "source": [
    "den3.factor()"
   ]
  },
  {
   "cell_type": "code",
   "execution_count": 79,
   "metadata": {},
   "outputs": [
    {
     "data": {
      "text/plain": [
       "2880*p^90 + 11520*p^89 + 27360*p^88 + 49920*p^87 + 81240*p^86 + 120679*p^85 + 174196*p^84 + 238283*p^83 + 320622*p^82 + 410715*p^81 + 516454*p^80 + 631600*p^79 + 756724*p^78 + 893920*p^77 + 1039983*p^76 + 1199326*p^75 + 1365699*p^74 + 1542160*p^73 + 1715687*p^72 + 1898248*p^71 + 2078532*p^70 + 2248548*p^69 + 2401572*p^68 + 2543265*p^67 + 2662305*p^66 + 2747202*p^65 + 2826223*p^64 + 2886612*p^63 + 2942373*p^62 + 2987581*p^61 + 3030066*p^60 + 3069696*p^59 + 3104769*p^58 + 3132473*p^57 + 3169754*p^56 + 3174673*p^55 + 3149164*p^54 + 3111563*p^53 + 3073405*p^52 + 3009500*p^51 + 2934240*p^50 + 2843956*p^49 + 2750409*p^48 + 2647467*p^47 + 2559308*p^46 + 2493589*p^45 + 2409330*p^44 + 2318449*p^43 + 2209969*p^42 + 2088648*p^41 + 1954370*p^40 + 1803477*p^39 + 1659669*p^38 + 1500728*p^37 + 1316967*p^36 + 1140186*p^35 + 991557*p^34 + 844617*p^33 + 708588*p^32 + 589332*p^31 + 496188*p^30 + 425336*p^29 + 365999*p^28 + 317728*p^27 + 270987*p^26 + 223710*p^25 + 186671*p^24 + 160136*p^23 + 140516*p^22 + 123536*p^21 + 106230*p^20 + 93867*p^19 + 82318*p^18 + 75779*p^17 + 78836*p^16 + 85935*p^15 + 94920*p^14 + 104760*p^13 + 108480*p^12 + 106560*p^11 + 100800*p^10 + 83520*p^9 + 66720*p^8 + 56160*p^7 + 44160*p^6 + 30720*p^5 + 15840*p^4 + 3840*p^3 - 5760*p^2 - 11520*p - 5760"
      ]
     },
     "execution_count": 79,
     "metadata": {},
     "output_type": "execute_result"
    }
   ],
   "source": [
    "num3.factor()"
   ]
  },
  {
   "cell_type": "code",
   "execution_count": 39,
   "metadata": {},
   "outputs": [
    {
     "data": {
      "text/plain": [
       "5760 p^{94} + 28800 p^{93} + 80640 p^{92} + 172800 p^{91} + 313920 p^{90} + 512640 p^{89} + 779040 p^{88} + 1125120 p^{87} + 1560360 p^{86} + 2091161 p^{85} + 2711564 p^{84} + 3425077 p^{83} + 4224018 p^{82} + 5118885 p^{81} + 6101786 p^{80} + 7178960 p^{79} + 8349836 p^{78} + 9612320 p^{77} + 10963857 p^{76} + 12388514 p^{75} + 13875261 p^{74} + 15398000 p^{73} + 16946713 p^{72} + 18486392 p^{71} + 20005308 p^{70} + 21488412 p^{69} + 22919388 p^{68} + 24275295 p^{67} + 25555935 p^{66} + 26767038 p^{65} + 27880337 p^{64} + 28908588 p^{63} + 29837787 p^{62} + 30673859 p^{61} + 31408974 p^{60} + 32037504 p^{59} + 32549631 p^{58} + 32936647 p^{57} + 33175846 p^{56} + 33309167 p^{55} + 33334676 p^{54} + 33234037 p^{53} + 32995715 p^{52} + 32644900 p^{51} + 32172960 p^{50} + 31595084 p^{49} + 30911031 p^{48} + 30132693 p^{47} + 29235892 p^{46} + 28212971 p^{45} + 27104910 p^{44} + 25899791 p^{43} + 24608591 p^{42} + 23232312 p^{41} + 21782590 p^{40} + 20280363 p^{39} + 18724971 p^{38} + 17161672 p^{37} + 15623193 p^{36} + 14100774 p^{35} + 12596283 p^{34} + 11159223 p^{33} + 9797652 p^{32} + 8517228 p^{31} + 7314372 p^{30} + 6192904 p^{29} + 5163601 p^{28} + 4226912 p^{27} + 3392373 p^{26} + 2662050 p^{25} + 2025169 p^{24} + 1481464 p^{23} + 1034524 p^{22} + 682864 p^{21} + 417930 p^{20} + 222933 p^{19} + 90482 p^{18} + 4861 p^{17} - 50036 p^{16} - 80175 p^{15} - 94920 p^{14} - 104760 p^{13} - 108480 p^{12} - 106560 p^{11} - 100800 p^{10} - 83520 p^{9} - 66720 p^{8} - 56160 p^{7} - 44160 p^{6} - 30720 p^{5} - 15840 p^{4} - 3840 p^{3} + 5760 p^{2} + 11520 p + 5760"
      ]
     },
     "execution_count": 39,
     "metadata": {},
     "output_type": "execute_result"
    }
   ],
   "source": [
    "latex((5760*pp^15*(pp+1)*(pp^20-1)*(pp^35-1)*(pp^18-1)*(pp^9-1)*rho3p/((pp-1)^4)))"
   ]
  },
  {
   "cell_type": "markdown",
   "metadata": {},
   "source": [
    "**The first few values computed individually:**"
   ]
  },
  {
   "cell_type": "code",
   "execution_count": 40,
   "metadata": {},
   "outputs": [
    {
     "name": "stdout",
     "output_type": "stream",
     "text": [
      "p=2: 357792959367031334203330778481486352159/382068150177100056504451182727947878400 = 0.936463715180613\n",
      "p=3: 341947650353077734424671144337255654488619491925373857/352129923021605466157817219233951832056896259545331200 = 0.971083761978663\n",
      "p=5: 86097630260784435447100598782562008926113896114013014530256922666498909279/86666803123976066755869260179323358963196506650206092672348022460937500000 = 0.993432631149698\n",
      "p=7: 305506442225959695750731221696357847002652799121681101310512708797306578845450637/305990864147524980302408365049149826079047472404966616252928609903674358381056000 = 0.998416874559589\n",
      "p=11: 180381571841180908637993538515031270909180246518441013584176907296658488528568533984567035173827692691/180400743281165829494219178794411859093803084918009201007525439211677254684714957353538885664070745600 = 0.999893728597587\n",
      "p=13: 56436513939340864051763567947767739265217884838160058023121276435745647756489025435740351887740315083551/56438369264054703660878373727149871197122495421013146340682554818431287327790812757797626586573714226400 = 0.999967126535759\n",
      "p=17: 19576400522426429088568588738058180397597986892680480588688953801551407094217802927516631345885114921887863106374891/19576524741352669758651197387522637257387105112162448594248715236280289913300659213066392916414975836300436672613600 = 0.999993654699806\n",
      "p=19: 397080281898692114315140080468919438743491351972325483159482395965279526502566996354913055476049191986968190953590827681/397081783878981691068459885208595813525996542578822208487535509368851516269249962017698346568130230329932384249699520000 = 0.999996217453556\n",
      "p=23: 48522081181573083036423111208272474959156068979329498181233500364119674925899578731319060688452318413504651439449259553105848387/48522164332307575207405924988815987189118960361454063750317623708432993676808946048191915966793163268891500189935412563002675200 = 0.999998286335005\n",
      "p=3 & 341947650353077734424671144337255654488619491925373857/352129923021605466157817219233951832056896259545331200 \\\\\n",
      "p=5 & 86097630260784435447100598782562008926113896114013014530256922666498909279/86666803123976066755869260179323358963196506650206092672348022460937500000 \\\\\n",
      "p=7 & 305506442225959695750731221696357847002652799121681101310512708797306578845450637/305990864147524980302408365049149826079047472404966616252928609903674358381056000 \\\\\n",
      "p=11 & 180381571841180908637993538515031270909180246518441013584176907296658488528568533984567035173827692691/180400743281165829494219178794411859093803084918009201007525439211677254684714957353538885664070745600 \\\\\n",
      "p=13 & 56436513939340864051763567947767739265217884838160058023121276435745647756489025435740351887740315083551/56438369264054703660878373727149871197122495421013146340682554818431287327790812757797626586573714226400 \\\\\n",
      "p=17 & 19576400522426429088568588738058180397597986892680480588688953801551407094217802927516631345885114921887863106374891/19576524741352669758651197387522637257387105112162448594248715236280289913300659213066392916414975836300436672613600 \\\\\n",
      "p=19 & 397080281898692114315140080468919438743491351972325483159482395965279526502566996354913055476049191986968190953590827681/397081783878981691068459885208595813525996542578822208487535509368851516269249962017698346568130230329932384249699520000 \\\\\n",
      "p=23 & 48522081181573083036423111208272474959156068979329498181233500364119674925899578731319060688452318413504651439449259553105848387/48522164332307575207405924988815987189118960361454063750317623708432993676808946048191915966793163268891500189935412563002675200 \\\\\n"
     ]
    }
   ],
   "source": [
    "for p in primes(25):\n",
    "    print(\"p={}: {} = {}\".format(p,rho(3,p),rho(3,p)*1.0))\n",
    "for p in primes(3,25):\n",
    "    print(\"p={} & {} \\\\\\\\\".format(p,rho(3,p)))"
   ]
  },
  {
   "cell_type": "markdown",
   "metadata": {},
   "source": [
    "**Of these, the generic formula is not valid for $p<29$:**"
   ]
  },
  {
   "cell_type": "code",
   "execution_count": 41,
   "metadata": {},
   "outputs": [
    {
     "name": "stdout",
     "output_type": "stream",
     "text": [
      "p=2: special case\n",
      "p=3: special case\n",
      "p=5: special case\n",
      "p=7: special case\n",
      "p=11: special case\n",
      "p=13: special case\n",
      "p=17: special case\n",
      "p=19: special case\n",
      "p=23: special case\n",
      "p=29: general formula valid\n"
     ]
    }
   ],
   "source": [
    "for p in primes(30):\n",
    "    print(\"p={}: {}\".format(p,\"general formula valid\" if rho(3,p)==subs(rho3p,p) else \"special case\"))"
   ]
  },
  {
   "cell_type": "markdown",
   "metadata": {},
   "source": [
    "**Degrees of numerator and denominator for generic density formula $\\rho_g$ for $g\\le6$:**\n",
    "\n",
    "Note that these are the same, so it is more useful to look at the numerator of $1-\\rho_g$.  It is plausible to conjecture that $1-\\rho_g = O(p^{-(g+1)})$"
   ]
  },
  {
   "cell_type": "code",
   "execution_count": null,
   "metadata": {},
   "outputs": [],
   "source": [
    "[(g,(1-rho(g)).numerator().degree(),rho(g).denominator().degree()) for g in [1,2,3,4,5,6]]"
   ]
  },
  {
   "cell_type": "code",
   "execution_count": null,
   "metadata": {},
   "outputs": [],
   "source": [
    "[(f, no_smooth_points_homog(f)) for f in homog(GF(2),4)]"
   ]
  },
  {
   "cell_type": "code",
   "execution_count": null,
   "metadata": {},
   "outputs": [],
   "source": [
    "[(f, f.factor()) for f in monics(GF(2),4) if no_smooth_points(f)]"
   ]
  },
  {
   "cell_type": "code",
   "execution_count": null,
   "metadata": {},
   "outputs": [],
   "source": [
    "for p in primes(18):\n",
    "    print(\"p={}: rho(3,p)={}\".format(p,rho(3,p)))"
   ]
  },
  {
   "cell_type": "code",
   "execution_count": null,
   "metadata": {},
   "outputs": [],
   "source": [
    "for i in [11..18]:\n",
    "    print(\"i={}\".format(i), end=\", \")\n",
    "    make_alphas(i, verbose=False)"
   ]
  },
  {
   "cell_type": "code",
   "execution_count": null,
   "metadata": {},
   "outputs": [],
   "source": [
    "i=18\n",
    "[len(str(t)) for t in [alpha_plus(i), alpha_minus(i), alpha_0(i)]]"
   ]
  },
  {
   "cell_type": "code",
   "execution_count": null,
   "metadata": {},
   "outputs": [],
   "source": [
    "[[t.numerator().degree(),t.denominator().degree()] for t in [alpha_plus(i), alpha_minus(i), alpha_0(i)]]"
   ]
  },
  {
   "cell_type": "code",
   "execution_count": null,
   "metadata": {},
   "outputs": [],
   "source": [
    "d=2\n",
    "alpha_plus(d), beta_plus(d), alpha_minus(d), beta_minus(d)"
   ]
  },
  {
   "cell_type": "code",
   "execution_count": null,
   "metadata": {},
   "outputs": [],
   "source": [
    "d=3\n",
    "alpha_plus(d), beta_plus(d), alpha_minus(d), beta_minus(d)"
   ]
  },
  {
   "cell_type": "code",
   "execution_count": null,
   "metadata": {},
   "outputs": [],
   "source": [
    "d=4\n",
    "alpha(d), beta(d), alpha_plus(d), beta_plus(d), alpha_minus(d), beta_minus(d)"
   ]
  },
  {
   "cell_type": "markdown",
   "metadata": {},
   "source": [
    "* Testing the new notation (March 2022) *"
   ]
  },
  {
   "cell_type": "code",
   "execution_count": 42,
   "metadata": {},
   "outputs": [],
   "source": [
    "%runfile alphabeta.sage"
   ]
  },
  {
   "cell_type": "code",
   "execution_count": 51,
   "metadata": {},
   "outputs": [
    {
     "data": {
      "text/plain": [
       "[1, 1, 1, 1, 1]"
      ]
     },
     "execution_count": 51,
     "metadata": {},
     "output_type": "execute_result"
    }
   ],
   "source": [
    "[alpha_1(n) for n in [1..5]]"
   ]
  },
  {
   "cell_type": "code",
   "execution_count": 52,
   "metadata": {},
   "outputs": [
    {
     "data": {
      "text/plain": [
       "[1,\n",
       " p/(p + 1),\n",
       " 1,\n",
       " (p^10 + 3*p^9 + 3*p^8 + 2*p^7 + 3/2*p^6 + 5/2*p^5 + 5/2*p^4 + 5/2*p^3 + 5/2*p^2 + p)/(p^10 + 3*p^9 + 4*p^8 + 4*p^7 + 4*p^6 + 4*p^5 + 4*p^4 + 4*p^3 + 4*p^2 + 3*p + 1),\n",
       " 1]"
      ]
     },
     "execution_count": 52,
     "metadata": {},
     "output_type": "execute_result"
    }
   ],
   "source": [
    "[alpha_u(n) for n in [1..5]]"
   ]
  },
  {
   "cell_type": "code",
   "execution_count": 53,
   "metadata": {},
   "outputs": [
    {
     "data": {
      "text/plain": [
       "[1,\n",
       " 1/2,\n",
       " (2/3*p^5 - 1/6*p^3 + 1/2*p^2 - p + 1)/p^5,\n",
       " (5/8*p^9 + 5/4*p^8 + 5/4*p^7 + 9/8*p^6 + 3/2*p^5 + p^4 + p^3 + 3/2*p^2 + 3/2*p + 1/2)/(p^9 + 2*p^8 + 2*p^7 + 2*p^6 + 2*p^5 + 2*p^4 + 2*p^3 + 2*p^2 + 2*p + 1),\n",
       " (19/30*p^17 + 19/30*p^16 - 1/12*p^15 + 1/6*p^14 - 3/10*p^13 + 1/5*p^12 + 1/4*p^11 - 1/3*p^7 + 1/6*p^5 - 5/6*p^3 + 3/2*p^2 + p - 1)/(p^17 + p^16)]"
      ]
     },
     "execution_count": 53,
     "metadata": {},
     "output_type": "execute_result"
    }
   ],
   "source": [
    "[alpha_p(n) for n in [1..5]]"
   ]
  },
  {
   "cell_type": "code",
   "execution_count": 54,
   "metadata": {},
   "outputs": [
    {
     "data": {
      "text/plain": [
       "[1,\n",
       " 1/p,\n",
       " (p^7 - 1/2*p^6 + 1/6*p^5 - 1/6*p^3 + 1/2*p^2 - p + 1)/p^8,\n",
       " (p^5 - 1/2*p^4 + 1/2*p^2 - p + 1)/p^6,\n",
       " (p^26 + 1/2*p^25 - 1/2*p^24 + 1/2*p^23 - 1/2*p^22 + p^20 - 1/2*p^19 - 11/30*p^17 + 2/15*p^16 - 1/12*p^15 + 1/6*p^14 - 3/10*p^13 + 1/5*p^12 + 1/4*p^11 - 1/3*p^7 + 1/6*p^5 - 5/6*p^3 + 3/2*p^2 + p - 1)/(p^27 + p^26)]"
      ]
     },
     "execution_count": 54,
     "metadata": {},
     "output_type": "execute_result"
    }
   ],
   "source": [
    "[beta_1(n) for n in [1..5]]"
   ]
  },
  {
   "cell_type": "code",
   "execution_count": 55,
   "metadata": {},
   "outputs": [
    {
     "data": {
      "text/plain": [
       "[1,\n",
       " 1/(p + 1),\n",
       " (p^7 - 1/2*p^6 + 1/6*p^5 - 1/6*p^3 + 1/2*p^2 - p + 1)/p^8,\n",
       " (p^9 + 5/2*p^8 + 5/2*p^7 + 5/2*p^6 + 5/2*p^5 + 2*p^4 + 3*p^3 + 3*p^2 + 2*p + 1/2)/(p^10 + 3*p^9 + 4*p^8 + 4*p^7 + 4*p^6 + 4*p^5 + 4*p^4 + 4*p^3 + 4*p^2 + 3*p + 1),\n",
       " (p^26 + 1/2*p^25 - 1/2*p^24 + 1/2*p^23 - 1/2*p^22 + p^20 - 1/2*p^19 - 11/30*p^17 + 2/15*p^16 - 1/12*p^15 + 1/6*p^14 - 3/10*p^13 + 1/5*p^12 + 1/4*p^11 - 1/3*p^7 + 1/6*p^5 - 5/6*p^3 + 3/2*p^2 + p - 1)/(p^27 + p^26)]"
      ]
     },
     "execution_count": 55,
     "metadata": {},
     "output_type": "execute_result"
    }
   ],
   "source": [
    "[beta_u(n) for n in [1..5]]"
   ]
  },
  {
   "cell_type": "code",
   "execution_count": 56,
   "metadata": {},
   "outputs": [
    {
     "data": {
      "text/plain": [
       "[1,\n",
       " 1/2,\n",
       " (1/2*p^3 + 1/2*p^2 - p + 1)/p^3,\n",
       " (1/2*p^9 + 3/2*p^8 + p^7 + p^6 + 3/2*p^5 + 3/2*p^4 + 9/8*p^3 + 5/4*p^2 + 5/4*p + 5/8)/(p^9 + 2*p^8 + 2*p^7 + 2*p^6 + 2*p^5 + 2*p^4 + 2*p^3 + 2*p^2 + 2*p + 1),\n",
       " (1/2*p^13 + p^12 - 1/2*p^11 + 1/2*p^9 - 1/3*p^7 + 1/6*p^5 - 5/6*p^3 + 3/2*p^2 + p - 1)/(p^13 + p^12)]"
      ]
     },
     "execution_count": 56,
     "metadata": {},
     "output_type": "execute_result"
    }
   ],
   "source": [
    "[beta_p(n) for n in [1..5]]"
   ]
  },
  {
   "cell_type": "code",
   "execution_count": 49,
   "metadata": {},
   "outputs": [],
   "source": [
    "%runfile alphabeta.sage"
   ]
  },
  {
   "cell_type": "code",
   "execution_count": 50,
   "metadata": {},
   "outputs": [
    {
     "name": "stdout",
     "output_type": "stream",
     "text": [
      "rho_1(p) OK\n",
      "rho_2(p) OK\n"
     ]
    },
    {
     "data": {
      "text/plain": [
       "(None, None)"
      ]
     },
     "execution_count": 50,
     "metadata": {},
     "output_type": "execute_result"
    }
   ],
   "source": [
    "check_rho(1), check_rho(2)"
   ]
  },
  {
   "cell_type": "code",
   "execution_count": 63,
   "metadata": {},
   "outputs": [
    {
     "data": {
      "text/plain": [
       "True"
      ]
     },
     "execution_count": 63,
     "metadata": {},
     "output_type": "execute_result"
    }
   ],
   "source": [
    "rho(4).subs(pp=1/pp) == rho(4)"
   ]
  },
  {
   "cell_type": "code",
   "execution_count": 69,
   "metadata": {},
   "outputs": [
    {
     "data": {
      "text/plain": [
       "False"
      ]
     },
     "execution_count": 69,
     "metadata": {},
     "output_type": "execute_result"
    }
   ],
   "source": [
    "g=4\n",
    "rho(g) == subs(rho(g),1/pp)"
   ]
  },
  {
   "cell_type": "code",
   "execution_count": null,
   "metadata": {},
   "outputs": [],
   "source": []
  }
 ],
 "metadata": {
  "kernelspec": {
   "display_name": "SageMath 9.5",
   "language": "sage",
   "name": "sagemath"
  },
  "language_info": {
   "codemirror_mode": {
    "name": "ipython",
    "version": 3
   },
   "file_extension": ".py",
   "mimetype": "text/x-python",
   "name": "python",
   "nbconvert_exporter": "python",
   "pygments_lexer": "ipython3",
   "version": "3.8.10"
  }
 },
 "nbformat": 4,
 "nbformat_minor": 1
}
